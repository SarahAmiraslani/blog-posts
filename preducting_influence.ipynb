{
 "cells": [
  {
   "cell_type": "code",
   "execution_count": null,
   "metadata": {},
   "outputs": [],
   "source": [
    "from sklearn.ensemble import RandomForestClassifier\n",
    "from sklearn.metrics import accuracy_score, f1_score\n",
    "\n",
    "import numpy as np\n",
    "import pandas as pd\n",
    "import matplotlib.pyplot as plt\n",
    "import networkx as nx\n",
    "\n",
    "from sklearn.ensemble import RandomForestClassifier\n",
    "from sklearn.metrics import (\n",
    "    accuracy_score,\n",
    "    confusion_matrix,\n",
    "    precision_score,\n",
    "    recall_score,\n",
    "    ConfusionMatrixDisplay,\n",
    ")\n",
    "from sklearn.model_selection import RandomizedSearchCV, train_test_split\n",
    "from scipy.stats import randint\n",
    "\n",
    "from sklearn.tree import export_graphviz\n",
    "from IPython.display import Image\n",
    "import graphviz"
   ]
  },
  {
   "cell_type": "code",
   "execution_count": null,
   "id": "01J2A21PB5T7MPPDX95JTNQ92Q",
   "metadata": {},
   "outputs": [],
   "source": [
    "def get_graph():\n",
    "    G = nx.read_edgelist(\"assets/slavko.net\", nodetype=int)\n",
    "    return G"
   ]
  },
  {
   "cell_type": "code",
   "execution_count": null,
   "id": "01J2A1YSVGB38PNJRQ6KHESC6E",
   "metadata": {},
   "outputs": [],
   "source": [
    "fb_train = pd.read_csv(\"assets/facebook_train.csv\")\n",
    "fb_test = pd.read_csv(\"assets/facebook_test.csv\")"
   ]
  },
  {
   "cell_type": "code",
   "execution_count": null,
   "id": "01J2A20AM3JZPAHGD4AVB08JX3",
   "metadata": {},
   "outputs": [],
   "source": [
    "G = get_graph()\n",
    "dc = nx.degree_centrality(G)\n",
    "cc = nx.closeness_centrality(G)\n",
    "bc = nx.betweenness_centrality(G)\n",
    "pr = nx.pagerank(G, alpha=0.9)\n",
    "hub, authority = nx.hits(G, max_iter=200)"
   ]
  },
  {
   "cell_type": "code",
   "execution_count": null,
   "id": "01J2A22HWEFR00NWADJ9FZE3YY",
   "metadata": {},
   "outputs": [],
   "source": [
    "# add new features to training and test set\n",
    "fb_train[\"deg_c\"] = fb_train[\"node\"].map(dc)\n",
    "fb_train[\"closeness_c\"] = fb_train[\"node\"].map(cc)\n",
    "fb_train[\"between_c\"] = fb_train[\"node\"].map(bc)\n",
    "fb_train[\"page_rank\"] = fb_train[\"node\"].map(pr)\n",
    "fb_train[\"hub\"] = fb_train[\"node\"].map(hub)\n",
    "fb_train[\"authority\"] = fb_train[\"node\"].map(authority)\n",
    "\n",
    "fb_test[\"deg_c\"] = fb_test[\"node\"].map(dc)\n",
    "fb_test[\"closeness_c\"] = fb_test[\"node\"].map(cc)\n",
    "fb_test[\"between_c\"] = fb_test[\"node\"].map(bc)\n",
    "fb_test[\"page_rank\"] = fb_test[\"node\"].map(pr)\n",
    "fb_test[\"hub\"] = fb_test[\"node\"].map(hub)\n",
    "fb_test[\"authority\"] = fb_test[\"node\"].map(authority)\n",
    "\n",
    "# split datasets\n",
    "X_train = fb_train.loc[:, fb_train.columns != \"label\"]\n",
    "y_train = fb_train.loc[:, fb_train.columns == \"label\"]\n",
    "\n",
    "X_test = fb_test.loc[:, fb_train.columns != \"label\"]\n",
    "y_test = fb_test.loc[:, fb_train.columns == \"label\"]"
   ]
  },
  {
   "cell_type": "code",
   "execution_count": null,
   "id": "01J2A30EN4VW0HX5APWV978N3D",
   "metadata": {},
   "outputs": [],
   "source": [
    "param_dist = {\"n_estimators\": randint(50, 500), \"max_depth\": randint(1, 20)}\n",
    "\n",
    "# Create a random forest classifier\n",
    "rf = RandomForestClassifier()\n",
    "\n",
    "# Use random search to find the best hyperparameters\n",
    "rand_search = RandomizedSearchCV(rf, param_distributions=param_dist, n_iter=5, cv=5)\n",
    "\n",
    "# Fit the random search object to the data\n",
    "rand_search.fit(X_train, y_train)\n",
    "\n",
    "# Create a variable for the best model\n",
    "best_rf = rand_search.best_estimator_\n",
    "\n",
    "# Print the best hyperparameters\n",
    "print(\"Best hyperparameters:\", rand_search.best_params_)"
   ]
  },
  {
   "cell_type": "code",
   "execution_count": null,
   "id": "01J2A2KXHKT4SRWWNHN8MG5VC6",
   "metadata": {},
   "outputs": [],
   "source": [
    "y_train"
   ]
  },
  {
   "cell_type": "code",
   "execution_count": null,
   "id": "01J2A256XRGW88PBT2ZYXWX10A",
   "metadata": {},
   "outputs": [],
   "source": [
    "rf = RandomForestClassifier()\n",
    "rf.fit(X_train, y_train)"
   ]
  },
  {
   "cell_type": "code",
   "execution_count": null,
   "id": "01J2A2T2E48CB88E6F3N7J1DYN",
   "metadata": {},
   "outputs": [],
   "source": [
    "y_pred = rf.predict(X_test)\n",
    "accuracy = accuracy_score(y_test, y_pred)\n",
    "precision = precision_score(y_test, y_pred)\n",
    "recall = recall_score(y_test, y_pred)\n",
    "\n",
    "print(\"Accuracy:\", accuracy)\n",
    "print(\"Precision:\", precision)\n",
    "print(\"Recall:\", recall)\n",
    "\n",
    "# Create the confusion matrix\n",
    "cm = confusion_matrix(y_test, y_pred)\n",
    "ConfusionMatrixDisplay(confusion_matrix=cm).plot()"
   ]
  },
  {
   "cell_type": "code",
   "execution_count": null,
   "id": "01J2A2ZX2HEVSYG1YX6BMQVMEF",
   "metadata": {},
   "outputs": [],
   "source": [
    "# Create a series containing feature importances from the model and feature names from the training data\n",
    "feature_importances = pd.Series(\n",
    "    best_rf.feature_importances_, index=X_train.columns\n",
    ").sort_values(ascending=False)\n",
    "\n",
    "# Plot a simple bar chart\n",
    "feature_importances.plot.bar()"
   ]
  },
  {
   "cell_type": "code",
   "execution_count": null,
   "id": "01J2A26HVJ5AHPPDMPPCGXYT6F",
   "metadata": {},
   "outputs": [],
   "source": [
    "# Your prediction result as a dictionary where\n",
    "# <key> is a node in the test set and <value> is the predicted label\n",
    "predict_labels = dict(zip(X_test.node, rf.predict(X_test)))"
   ]
  },
  {
   "cell_type": "code",
   "execution_count": null,
   "id": "01J2A35KPYTX2X3BV07E5F2CP8",
   "metadata": {},
   "outputs": [],
   "source": [
    "rf"
   ]
  },
  {
   "cell_type": "code",
   "execution_count": null,
   "id": "01J2A277GWTDGDPPJ58R507FMG",
   "metadata": {},
   "outputs": [],
   "source": [
    "# Export the first three decision trees from the forest\n",
    "\n",
    "for i in range(3):\n",
    "    tree = rf.estimators_[i]\n",
    "    dot_data = export_graphviz(\n",
    "        tree,\n",
    "        feature_names=X_train.columns,\n",
    "        filled=True,\n",
    "        max_depth=2,\n",
    "        impurity=False,\n",
    "        proportion=True,\n",
    "    )\n",
    "    graph = graphviz.Source(dot_data)\n",
    "    display(graph)"
   ]
  },
  {
   "cell_type": "code",
   "execution_count": null,
   "id": "01J2A27AH9GVZMTPWN2ABH8CJQ",
   "metadata": {},
   "outputs": [],
   "source": []
  }
 ],
 "metadata": {
  "kernelspec": {
   "display_name": "Python 3",
   "language": "python",
   "name": "python3"
  },
  "language_info": {
   "codemirror_mode": {
    "name": "ipython",
    "version": 3
   },
   "file_extension": ".py",
   "mimetype": "text/x-python",
   "name": "python",
   "nbconvert_exporter": "python",
   "pygments_lexer": "ipython3",
   "version": "3.10.10"
  }
 },
 "nbformat": 4,
 "nbformat_minor": 2
}
