{
 "cells": [
  {
   "cell_type": "markdown",
   "metadata": {},
   "source": [
    "# Mining Frequent Itemsets"
   ]
  },
  {
   "cell_type": "markdown",
   "metadata": {},
   "source": [
    "First, let's import the packages and dependencies that will be used later."
   ]
  },
  {
   "cell_type": "code",
   "execution_count": 59,
   "metadata": {},
   "outputs": [],
   "source": [
    "# Standard library imports\n",
    "import re\n",
    "from typing import Dict\n",
    "import warnings\n",
    "\n",
    "# Related third party imports\n",
    "import emoji\n",
    "import matplotlib.pyplot as plt\n",
    "import numpy as np\n",
    "import pandas as pd\n",
    "from mlxtend.frequent_patterns import apriori, association_rules\n",
    "import plotly.express as px\n",
    "import requests\n",
    "import seaborn as sns\n",
    "from sklearn.preprocessing import MultiLabelBinarizer\n",
    "import squarify\n",
    "\n",
    "# set the default style for the plots and supress warnings\n",
    "sns.set_style(\"whitegrid\")\n",
    "sns.set_palette(\"colorblind\")\n",
    "warnings.filterwarnings(\"ignore\")"
   ]
  },
  {
   "cell_type": "code",
   "execution_count": null,
   "metadata": {},
   "outputs": [],
   "source": []
  },
  {
   "cell_type": "markdown",
   "metadata": {},
   "source": [
    "## 1. Data Preprocessing"
   ]
  },
  {
   "cell_type": "markdown",
   "metadata": {},
   "source": [
    "This dataset contains a sample of roughly 10 thousand Tweets that contain two or more food or drink emojis. We will represent the emojis in these tweets as a collection of itemsets and calulate their similarity. "
   ]
  },
  {
   "cell_type": "code",
   "execution_count": 2,
   "metadata": {},
   "outputs": [
    {
     "name": "stdout",
     "output_type": "stream",
     "text": [
      "(9958, 1)\n"
     ]
    },
    {
     "data": {
      "text/html": [
       "<div>\n",
       "<style scoped>\n",
       "    .dataframe tbody tr th:only-of-type {\n",
       "        vertical-align: middle;\n",
       "    }\n",
       "\n",
       "    .dataframe tbody tr th {\n",
       "        vertical-align: top;\n",
       "    }\n",
       "\n",
       "    .dataframe thead th {\n",
       "        text-align: right;\n",
       "    }\n",
       "</style>\n",
       "<table border=\"1\" class=\"dataframe\">\n",
       "  <thead>\n",
       "    <tr style=\"text-align: right;\">\n",
       "      <th></th>\n",
       "      <th>text</th>\n",
       "    </tr>\n",
       "  </thead>\n",
       "  <tbody>\n",
       "    <tr>\n",
       "      <th>0</th>\n",
       "      <td>RT @CalorieFixess: 🍗🌯🍔🍒 400 Calories https://t...</td>\n",
       "    </tr>\n",
       "    <tr>\n",
       "      <th>1</th>\n",
       "      <td>RT @1_F_I_R_S_T: _ 🍈¹〉Grow your account fast! ...</td>\n",
       "    </tr>\n",
       "    <tr>\n",
       "      <th>2</th>\n",
       "      <td>RT @LegendDeols: 👉👉👉G€T Ready to dance💃🕺🕺🕺💃💃💃 ...</td>\n",
       "    </tr>\n",
       "    <tr>\n",
       "      <th>3</th>\n",
       "      <td>@britch_x Hubby's friend bought us Wendy's-che...</td>\n",
       "    </tr>\n",
       "    <tr>\n",
       "      <th>4</th>\n",
       "      <td>RT @DAILYPUPPlES: Workout partner ☕🍌😍 https://...</td>\n",
       "    </tr>\n",
       "  </tbody>\n",
       "</table>\n",
       "</div>"
      ],
      "text/plain": [
       "                                                text\n",
       "0  RT @CalorieFixess: 🍗🌯🍔🍒 400 Calories https://t...\n",
       "1  RT @1_F_I_R_S_T: _ 🍈¹〉Grow your account fast! ...\n",
       "2  RT @LegendDeols: 👉👉👉G€T Ready to dance💃🕺🕺🕺💃💃💃 ...\n",
       "3  @britch_x Hubby's friend bought us Wendy's-che...\n",
       "4  RT @DAILYPUPPlES: Workout partner ☕🍌😍 https://..."
      ]
     },
     "execution_count": 2,
     "metadata": {},
     "output_type": "execute_result"
    }
   ],
   "source": [
    "# read the local file that contains sampled tweets\n",
    "tweets_df = pd.read_csv(\n",
    "    \"assets/food_drink_emoji_tweets.txt\", sep=\"\\t\", header=None\n",
    ").rename(columns={0: \"text\"})\n",
    "\n",
    "print(tweets_df.shape)\n",
    "tweets_df.head()"
   ]
  },
  {
   "cell_type": "markdown",
   "metadata": {},
   "source": [
    "Notice that every line of this data is a tweet. There are a few more features that we can extract from this dataset that may give us context into the dataset. "
   ]
  },
  {
   "cell_type": "code",
   "execution_count": 37,
   "metadata": {},
   "outputs": [
    {
     "name": "stdout",
     "output_type": "stream",
     "text": [
      "{'💪🏽', '♠️', '🛶', '🔮', '👍🏽', '👏🏾', '🚲', '🤹🏾\\u200d♀️', '👩\\u200d👩\\u200d👧\\u200d👦', '🐫', '🤸🏾\\u200d♀️', '🥢', '🎇', '🐂', '⤵️', '♣️', '⛈', '🇬🇧', '☄', '😴', '🇨🇮', '🗺', '🦔', '🧘\\u200d♂️', '👩🏻\\u200d🍳', '👩\\u200d🦰', '🕑', '🌤️', '🤟🏼', '👋🏻', '💆', '👱', '1⃣', '📷', '🍻', '🧧', '🍆', '⚱️', '🔹', '👶🏻', '🌺', '📦', '👉🏻', '🔓', '🤟', '🐣', '🛳', '🇧🇪', '🌹', '🙄', '🧸', '🕥', '🈹', '⛪', '🤮', '🌨', '🥝', '⁉️', '🤛🏼', '⚧', '🤠', '✊🏾', '🌪️', '✏️', '🏜', '🐤', '🐖', '🏊🏼\\u200d♀️', '🤦', '🧙🏼\\u200d♀️', '🤤', '🥯', '🏃🏽\\u200d♂️', '♨️', '👎🏽', '🇱🇸', '🅾️', '〰', '👈🏻', '🚬', '🐉', '💁🏽', '✈', '🧣', '🥞', '📵', '🏔️', '🌧', '📘', '🥡', '🐯', '🔈', '😶', '🚰', '🤙', '📜', '🏖', '🚦', '🏰', '🥜', '🤢', '🎳', '🥖', '🛴', '🥘', '🌚', '☃️', '👧🏾', '🌼', '🇹🇹', '👨\\u200d👩\\u200d👦\\u200d👦', '🔉', '🦀', '🎃', '🤳', '📺', '🐷', '👂', '➡️', '🤦🏻\\u200d♀️', '🐡', '😔', '🔛', '🙅\\u200d♀️', '🥅', '🇬🇾', '🖖🏼', '🤥', '🇮🇸', '🥪', '😅', '❣', '🧞\\u200d♀️', '🔼', '▪', '🏋🏻\\u200d♂️', '👳', '💹', '🏊\\u200d♀️', '🍼', '🗓️', '🌳', '🔭', '🙇🏼\\u200d♂️', '🤵🏽', '🎧', '🧚🏽\\u200d♀️', '💁🏻\\u200d♀️', '🎒', '🙆🏻\\u200d♀️', '🔆', '🔐', '👠', '🤗', '💣', '📗', '🚗', '♥', '🐼', '🍋', '🏃🏽\\u200d♀️', '🥺', '😺', '🔞', '😆', '😕', '0️⃣', '🔷', '🔕', '🙅🏽\\u200d♀️', '👧🏼', '🗯️', '📐', '🚧', '🚳', '👉🏾', '🤟🏽', '👸🏼', '👋🏼', '🗡️', '☘', '🍵', '🚑', '🇰🇷', '🛎', '🤚', '☔', '📰', '🧟\\u200d♀️', '↙', '🧦', '✌🏽', '🥳', '🗣', '❄️', '🧂', '🌬️', '🐭', '2⃣', '😡', '📝', '🌕', '📅', '🚒', '☺', '🍥', '🙀', '🦁', '🙅\\u200d♂️', '⛺', '🙋', '😼', '↗️', '💆\\u200d♀️', '♎', '🌍', '😛', '🎗', '🍺', '⭐', '✡', '🎭', '🤽🏾\\u200d♀️', '🐘', '📖', '🦏', '🇰🇪', '👨🏼\\u200d🔬', '◼️', '👁', '👭', '🌩', '💨', '🧝🏾\\u200d♂️', '🐱', '🙋\\u200d♂️', '👚', '👈🏼', '👮\\u200d♀️', '🧘🏼\\u200d♀️', '🎛️', '😬', '💪🏿', '⚰️', '🌎', '👒', '😮', '👨🏾\\u200d🍳', '🥀', '💀', '🧚🏿\\u200d♀️', '👵', '🍦', '💲', '👰', '⭕', '🚶\\u200d♂️', '🙈', '🏌🏻\\u200d♂️', '🦃', '🌬', '👩🏽\\u200d🍳', '🍽️', '☝️', '🤙🏾', '🉐', '😰', '🍚', '✌️', '💃', '🈺', '🌔', '😍', '💡', '🙋🏻\\u200d♂️', '🏍', '👶', '🍾', '🎈', '🍒', '💬', '💅🏿', '🤣', '🌊', '🏝', '😚', '🏅', '🎆', '🇨🇭', '8️⃣', '👔', '😠', '🇸🇧', '👩\\u200d❤️\\u200d💋\\u200d👩', '👶🏿', '☑', '®', '🐗', '🥒', '🛬', '🥛', '🌥', '🌷', '🍜', '🖲', '📧', 'Ⓜ️', '💆\\u200d♂️', '👱🏻', '🧜\\u200d♀️', '🈷️', '✊🏻', '🦌', '🙋🏼\\u200d♂️', '👊', '🗿', '📌', '👮', '🃏', '😹', '⚒', '🐁', '⛷', '🇳🇴', '🎅🏻', '🚾', '☀', '🗼', '🚂', '🕯️', '⛹️\\u200d♂️', '📛', '😳', '🐪', '🏝️', '🐺', '🤦🏻\\u200d♂️', '↘', '🌁', '🐩', '🐄', '💁', '♦', '🇯🇵', '✝️', '🎼', '🤟🏿', '⛱️', '🍡', '📡', '♈', '👨🏽\\u200d💻', '⚙️', '👶🏼', '❇', '🏇', '😙', '🦍', '⌛', '😖', '🌅', '🔔', '🆑', '🈲', '👃🏼', '♑', '🎩', '🥄', '🎞', '⏳', '🖕🏽', '👍', '👩🏿\\u200d🍳', '🇧🇷', '👓', '🇫🇷', '↗', '⛹️\\u200d♀️', '🔚', '👨🏽\\u200d🍳', '🙋🏽\\u200d♀️', '📿', '👩\\u200d👩\\u200d👧\\u200d👧', '🚴\\u200d♂️', '🤸🏽\\u200d♀️', '📚', '🙋🏻\\u200d♀️', '🐶', '😣', '🤙🏼', '🌑', '🙅🏻\\u200d♂️', '💂\\u200d♀️', '🔴', '📔', '💻', '🤟🏻', '🏊🏻', '💌', '🇮🇳', '🧹', '🚣\\u200d♂️', '☺️', '🈴', '💍', '👌🏻', '📏', '🚵\\u200d♂️', '🍹', '♦️', '🤦🏾\\u200d♂️', '🧺', '🏋🏿\\u200d♂️', '👌', '🎅', '👨🏿\\u200d🍳', '👺', '👨🏼\\u200d🍳', '‼', '🤘🏽', '💂', '🇵🇹', '🗺️', '😇', '✌🏿', '🏢', '🔵', '🔤', '😷', '🌶️', '🍗', '✨', '🔱', '🎻', '🏘️', '🎪', '🐴', '🤾\\u200d♂️', '👴', '🌮', '🔒', '📙', '♨', '😉', '🤞🏾', '🖤', '👕', '🗡', '🙂', '🏖️', '🤐', '5⃣', '🇸🇬', '▶️', '✍🏻', '👨\\u200d👩\\u200d👧\\u200d👦', '🌰', '📹', '🏵', '🏩', '🎙', '🛏', '👮🏿', '🌗', '🎟', '4️⃣', '⛱', '🚭', '😑', '🌻', '📈', '😃', '☝', '🤕', '☀️', '🏎', '🔖', '🚼', '😸', '🕓', '🙅🏿\\u200d♀️', '🏞', '🥥', '🚫', '💼', '😨', '🤛', '🕯', '🎎', '🚔', '🐆', '✍🏼', '🐔', '⛩', '🐕', '💁🏾\\u200d♀️', '💁🏻\\u200d♂️', '🏴\\U000e0067\\U000e0062\\U000e0073\\U000e0063\\U000e0074\\U000e007f', '♌', '🍞', '🛌', '👳\\u200d♂️', '📭', '😾', '🇨🇼', '🙌', '👌🏽', '🍧', '🕴', '🚘', '💃🏿', '👨\\u200d👨\\u200d👧\\u200d👧', '👯\\u200d♀️', '⛰', '🥔', '⛅', '🌡️', '🏃🏾\\u200d♂️', '🇧🇧', '⚔️', '🌈', '🧜🏽\\u200d♀️', '👊🏼', '📠', '🛵', '🏳️\\u200d🌈', '🤳🏽', '🤴', '👴🏼', '👰🏼', '⚠', '🏤', '💛', '🚣', '🥬', '⛰️', '🌿', '🔪', '💅🏾', '🎢', '🐜', '🤲', '🤙🏻', '⛲', '🙌🏿', '🤷\\u200d♂️', '❓', '⬜', '🎵', '🧢', '🌄', '🚶\\u200d♀️', '👷', '✉️', '👍🏾', '🎅🏼', '🌃', '💘', '🚚', '🍘', '♻️', '👨🏻', '😧', '🚖', '🚩', '🚯', '👫', '🏫', '➕', '🏃\\u200d♀️', '💗', '🦄', '🦅', '⚫', '🥣', '💄', '🕷', '3️⃣', '🌀', '🛍️', '😫', '🦑', '🍈', '🚪', '💁🏼', '🙋🏼\\u200d♀️', '😝', '🇨🇿', '✒', '❔', '👇🏼', '💕', '📎', '🌌', '🧘🏻\\u200d♀️', '☑️', '🔊', '🐝', '🤞', '🔇', '🏄\\u200d♀️', '✊🏽', '👃', '🤸\\u200d♂️', '👏🏼', '⛽', '👼🏼', '🧖🏾\\u200d♀️', '👡', '🆎', '🎍', '🙋🏼', '📨', '🤔', '📆', '🇺🇸', '🍂', '9️⃣', '2️⃣', '🛒', '🙎', '🛍', '📽', '🤱', '🥓', '💚', '🍱', '💟', '😥', '🏒', '👽', '👁️', '🌧️', '🍭', '⬇', '🤷🏽\\u200d♂️', '🏸', '🤦\\u200d♀️', '⚽', '👢', '㊙️', '🍰', '👉', '🤵🏻', '🥨', '🕳', '💒', '♉', '🏃🏼\\u200d♀️', '👨\\u200d🚀', '🎣', '🆙', '🦗', '👩🏻\\u200d💼', '🎠', '☁', '🎬', '🎹', '🏡', '♋', '🏜️', '♠', '👨🏻\\u200d🚀', '🤯', '😊', '🎉', '👟', '❇️', '💊', '🏊🏻\\u200d♂️', '🙅', '🤫', '👨\\u200d👨\\u200d👦\\u200d👦', '🙍', '😏', '👩🏾\\u200d🌾', '🧚🏻\\u200d♀️', '👣', '👩\\u200d🍳', '🤦🏼\\u200d♀️', '🍐', '🐒', '🛩️', '🙋🏾\\u200d♀️', '❤', '🧝🏻\\u200d♂️', '😀', '🐽', '🎯', '🛢', '🍿', '🙏🏾', '🚁', '🍳', '⚓', '🇦🇺', '☕', '🇦🇪', '🥐', '💃🏼', '👝', '🤸🏻\\u200d♂️', '🙏🏽', '🌏', '👷\\u200d♂️', '🚤', '🙌🏻', '✋', '🐀', '🐹', '👩🏻', '🤡', '🍎', '❣️', '🐊', '👇🏾', '✂️', '➖', '✊🏼', '💷', '👨\\u200d🍳', '👸🏿', '⚜', '✔️', '🐍', '🍕', '©', '🆗', '➡', '🛑', '📳', '💈', '🧘🏽\\u200d♀️', '😗', '🥦', '🐛', '🥤', '🍛', '🕊', '🎾', '💶', '🧔', '⛹🏼\\u200d♀️', 'ℹ️', '❗', '👤', '❌', '🧜🏻\\u200d♂️', '🍩', '✌🏼', '🚙', '🉑', '🙅🏽\\u200d♂️', '🐋', '♟️', '💅🏻', '🕶️', '🎐', '🚴🏾\\u200d♂️', '🍏', '🤸🏼\\u200d♀️', '🏏', '👩\\u200d👦\\u200d👦', '😎', '🤲🏿', '9⃣', '🏛', '🕺🏾', '⌨️', '🤜', '👮🏽', '🧐', '🙇🏻', '🤸🏾\\u200d♂️', '🛠', '🏔', '📃', '🏋️\\u200d♂️', '🚷', '🇮🇱', '👩🏽\\u200d🎤', '✅', '👰🏻', '🌉', '🤸🏿\\u200d♀️', '🥠', '◀', '💯', '👋', '5️⃣', '🔋', '🎏', '🌴', '👯\\u200d♂️', '🐇', '🇩🇴', '🎸', '🤸\\u200d♀️', '✌', '🆕', '👅', '🐢', '⛵', '🇨🇦', '🍃', '🧙🏻\\u200d♀️', '🏨', '🤭', '🥰', '㊗️', '📁', '💦', '🌞', '🍯', '🚕', '👩🏻\\u200d🌾', '👌🏼', '🇹🇷', '❄', '👻', '💙', '🤧', '👨🏻\\u200d🍳', '🏃🏻\\u200d♀️', '🍨', '🚀', '🐌', '👞', '⏰', '🕊️', '⛔', '🎌', '🙇', '🤷', '🥊', '🕺🏼', '🚶🏻\\u200d♀️', '♻', '😟', '🛫', '👴🏻', '🚜', '🐥', '💆🏾\\u200d♀️', '👳🏿', '🍮', '⬆️', '🤘🏾', '👩🏽', '🌒', '💃🏽', '💪', '🐮', '⏯', '🖲️', '🥑', '🏚️', '✍️', '♥️', '💁\\u200d♀️', '🤴🏼', '👛', '👙', '🍸', '☠', '3⃣', '🇳🇬', '👍🏻', '🏐', '🤦🏼\\u200d♂️', '🙏🏼', '🈵', '📲', '🅿', '🤓', '®️', '🙏🏿', '🥗', '🐸', '🤷🏿\\u200d♂️', '💇', '🙅🏾\\u200d♂️', '🎡', '🇬🇭', '🦇', '🏋🏾\\u200d♂️', '🏈', '💁🏼\\u200d♀️', '👇🏿', '🕶', '🌡', '✋🏽', '🤷🏽\\u200d♀️', '🏊🏿', '😂', '😻', '🤳🏾', '🏂', '👜', '👿', '👼', '0⃣', '🤦🏽\\u200d♀️', '🍊', '👱\\u200d♀️', '💜', '🤩', '🇭🇹', '🏊\\u200d♂️', '🤷🏻\\u200d♀️', '😘', '😯', '🏉', '🚶', '🈚', '👇🏻', '🌝', '💿', '😢', '✖', '🇷🇺', '🚿', '👩\\u200d👩\\u200d👧', '👎', '🙏', '🍑', '🤰🏻', '⬅', '🧚\\u200d♂️', '🅱️', '🎤', '✈️', '😱', '💪🏾', '🚋', '🏁', '🏺', '🇵🇦', '⛎', '🖕🏼', '☹️', '🙋\\u200d♀️', '🏠', '👮🏻\\u200d♀️', '🇩🇿', '👨🏾\\u200d🌾', '💝', '🥂', '🕰', '🐎', '🥭', '🏊🏾\\u200d♂️', '📢', '🔧', '7⃣', '🕸', '👨', '⤵', '🔶', '🌟', '☯️', '🚍', '📮', '🕉', '⏱', '🍍', '🌾', '💸', '🇺🇾', '💅🏼', '🙌🏽', '🛰', '🌽', '🍁', '💖', '📞', '🏃\\u200d♂️', '💐', '👊🏻', '🏵️', '🧀', '🌪', '🧁', '☂️', '🎓', '🏟️', '👈', '😦', '😋', '🇿🇦', '🐻', '⛓', '🛁', '🤬', '🧙🏽\\u200d♀️', '🐙', '👨\\u200d❤️\\u200d💋\\u200d👨', '🔃', '🎄', '🔥', '🥚', '🥮', '🏋🏻\\u200d♀️', '🔟', '🤑', '👀', '🤘', '☠️', '🤘🏼', '😽', '🆓', '👱\\u200d♂️', '👑', '💤', '💢', '🗝', '💎', '😓', '👏🏽', '👆🏻', '‼️', '☮', '🚱', '🆒', '🤘🏻', '🔨', '🌫', '1️⃣', '🔸', '🇨🇺', '💠', '👩\\u200d🌾', '🈶', '🌖', '👨\\u200d🔬', '📟', '😁', '👥', '👆', '🎫', '🏄🏼\\u200d♀️', '🐿', '🖕', '😵', '👏🏻', '👧🏻', '🔑', '✔', '✍🏾', '💞', '↖', '🚛', '🛥', '👮\\u200d♂️', '👧', '🧶', '🚎', '➰', '🔰', '🔌', '🈸', '🙆\\u200d♀️', '🦒', '⌚', '🤷🏼\\u200d♀️', '🛸', '🤖', '🎅🏽', '🥕', '💴', '🙌🏾', '🛀', '💔', '⚰', '🖌', '🍤', '💧', '🤵🏼', '🅰️', '🙆', '🗣️', '👲', '⚾', '🍟', '👩🏿\\u200d🎨', '🕚', '💓', '🍴', '🇬🇪', '🏄', '⬅️', '🥁', '🚏', '💅', '🖕🏻', '🐈', '😌', '👈🏿', '🐧', '🏊🏻\\u200d♀️', '📂', '💃🏾', '👸', '💫', '😞', '✌🏻', '☂', '👨\\u200d🎤', '〰️', '🐏', '👩🏽\\u200d🔬', '🙏🏻', '🙁', '🦊', '🌲', '👇🏽', '4⃣', '☝🏾', '👹', '🚨', '™️', '👬', '🦖', '🎶', '📓', '✴️', '🌙', '👸🏻', '🖥', '🦐', '🧚\\u200d♀️', '🐵', '📍', '🌇', '🇵🇭', '💭', '☎', '🥇', '🦈', '🎂', '🇹🇯', '🚅', '6⃣', '🍲', '👯', '🐬', '🤷\\u200d♀️', '🖖', '🦕', '🌵', '♓', '🕺🏽', '🍙', '🕛', '🧕🏿', '🍢', '🇬🇷', '🔙', '🔦', '🚐', '🧞\\u200d♂️', '👶🏽', '🐦', '🏕', '🐳', '🛥️', '⛏', '🇵🇷', '🕺', '🇪🇸', '🚴\\u200d♀️', '😐', '👩', '🦋', '👶🏾', '🚽', '🍝', '🥈', '👨\\u200d🎓', '💑', '⬇️', '🗻', '©️', '🚄', '🇨🇾', '👏', '🤪', '⚪', '🎋', '🇩🇪', '🌦', '🐞', '🌆', '🧖🏼\\u200d♀️', '🏷', '🛀🏻', '🎀', '🇦🇷', '🕺🏻', '💪🏼', '➿', '👘', '✖️', '🌜', '☎️', '🏊', '🥙', '🍔', '👩🏼\\u200d⚕️', '💳', '🏹', '🤟🏾', '👩\\u200d🎤', '🥧', '🎷', '🧑🏽', '🧳', '🍶', '♊', '🆚', '🥉', '🔩', '🎰', '🕹', '🍣', '💵', '🧜🏻\\u200d♀️', '🏄\\u200d♂️', '🦆', '✊', '💃🏻', '🐨', '8⃣', '🕍', '📻', '☮️', '❤️', '🏟', '🧮', '🦎', '😄', '🐰', '👋🏾', '📽️', '🍄', '🌶', '🙃', '⛄', '🥟', '🐟', '🚴🏻\\u200d♂️', '👨\\u200d🌾', '🐲', '🍽', '🎱', '🏆', '🍓', '🔘', '🧡', '🛣️', '⚜️', '🧚🏻\\u200d♂️', '🌋', '🈯', '🤙🏽', '☸️', '🙊', '✊🏿', '🇨🇴', '🍬', '🐾', '🔢', '🎥', '🗽', '🌐', '😭', '👱🏻\\u200d♀️', '🌯', '💪🏻', '📱', '⏩', '🇯🇲', '👖', '🐑', '🍪', '🛏️', '👾', '💺', '👦', '🔫', '🔄', '🇱🇨', '🍉', '🖋', '🤴🏻', '🥩', '❕', '🔜', '👩\\u200d👩\\u200d👦\\u200d👦', '😤', '🐠', '👩🏻\\u200d🎤', '🤵', '👩🏾\\u200d🎤', '👩🏼', '🎁', '🚊', '👨\\u200d👩\\u200d👧\\u200d👧', '🎊', '👃🏻', '🖍️', '😲', '👩🏻\\u200d🔬', '⚗️', '🥫', '🤒', '🌸', '🕖', '🍠', '💉', '💆🏻\\u200d♀️', '🇦🇬', '🙌🏼', '📣', '🎲', '🛋', '😩', '🍫', '⛴', '🇵🇸', '🚓', '🧜🏼\\u200d♀️', '☁️', '👩🏼\\u200d🍳', '⚖️', '🐓', '👍🏿', '👨\\u200d👧', '🤷🏾\\u200d♂️', '👱🏽\\u200d♀️', '🎨', '🎮', '🧜🏾\\u200d♀️', '🔅', '💩', '🏀', '🛤', '🈁', '🐐', '🚌', '🏄🏽\\u200d♂️', '〽', '👄', '💂\\u200d♂️', '💏', '💮', '🚣\\u200d♀️', '🌭', '🇧🇶', '🤾\\u200d♀️', '🤞🏻', '☘️', '🕒', '🇳🇦', '🍷', '🇲🇽', '💰', '🦞', '🔝', '🏃', '🕡', '♍', '📕', '🙉', '🧥', '🤷🏾\\u200d♀️', '🎞️', '👩\\u200d❤️\\u200d👩', '❎', '🚆', '🛩', '🌓', '🤝', '📒', '🍀', '🌱', '✳', '😒', '🐅', '🧚🏼\\u200d♀️', '🎟️', '✂', '✋🏾', '⛳', '💅🏽', '🗓', '🔗', '🇹🇭', '🆔', '😈', '👨\\u200d👩\\u200d👧', '🌠', '🚮', '🚺', '🍇', '📯', '☄️', '💋', '🍖', '👪', '👐🏻', '👉🏼', '📸', '🍅', '🆘', '🌂', '📩', '🧘🏾\\u200d♀️', '😜', '👗', '💥', '😿', '🧠', '🚡', '🔺', '🎺', '👨🏼\\u200d💼', '🔁', '✏', '🥃', '👨\\u200d❤️\\u200d👨', '▶', '🏪', '🦉', '👼🏻', '⚡', '👍🏼', '🙇🏻\\u200d♀️', '🤞🏿', '🇸🇪', '🐚', '🕗', '👨🏻\\u200d🌾', '💾', '🇮🇹', '🧘\\u200d♀️', '🧝🏻\\u200d♀️', '🗾', '™', '🍌', '🏴', '🏊🏽\\u200d♂️', '⚠️', '🌤', '😪', '👇'}\n"
     ]
    }
   ],
   "source": [
    "tweets_unique_emojis = set()\n",
    "for text in tweets_df['text']:\n",
    "    emojis = emoji.emoji_list(text)\n",
    "    for emoji_data in emojis:\n",
    "        tweets_unique_emojis.add(emoji_data['emoji'])\n",
    "\n",
    "print(tweets_unique_emojis)"
   ]
  },
  {
   "cell_type": "code",
   "execution_count": 3,
   "metadata": {},
   "outputs": [
    {
     "data": {
      "image/png": "[encoded data removed]",
      "text/plain": [
       "<Figure size 640x480 with 1 Axes>"
      ]
     },
     "metadata": {},
     "output_type": "display_data"
    }
   ],
   "source": [
    "# Count emojis per tweet (including diuplicates)\n",
    "tweets_df[\"emoji_count\"] = tweets_df[\"text\"].apply(emoji.emoji_count)\n",
    "\n",
    "# Calculate the central tendancy stats\n",
    "average_emojis = tweets_df[\"emoji_count\"].mean()\n",
    "median_emoji = tweets_df[\"emoji_count\"].median()\n",
    "\n",
    "sns.histplot(tweets_df[\"emoji_count\"], bins=range(0, 60))\n",
    "plt.xlabel(\"Number of emojis in tweet\")\n",
    "plt.ylabel(\"Number of tweets\")\n",
    "plt.title(\"Distribution of emoji count in tweets\")\n",
    "\n",
    "# Add a vertical line at the average number of emojis\n",
    "plt.axvline(average_emojis, color=\"r\", linestyle=\"dashed\", linewidth=1)\n",
    "\n",
    "# Add a text annotation\n",
    "plt.annotate(\n",
    "    \"Average: {:.2f}\".format(average_emojis),\n",
    "    xy=(average_emojis, 0),\n",
    "    xytext=(average_emojis + 1, 2550),\n",
    ")\n",
    "\n",
    "plt.show()"
   ]
  },
  {
   "cell_type": "markdown",
   "metadata": {},
   "source": [
    "In addition, it would be ideal to organize the emojis witnessed into semantic categories. One consistent way of doing so is by pulling the unicode categories from unicode.org. The code below does so. "
   ]
  },
  {
   "cell_type": "code",
   "execution_count": 4,
   "metadata": {},
   "outputs": [],
   "source": [
    "def fetch_emoji_data():\n",
    "    # Use a context manager for the request\n",
    "    with requests.get(\n",
    "        \"https://unicode.org/Public/emoji/13.1/emoji-test.txt\"\n",
    "    ) as response:\n",
    "        lines = response.text.split(\"\\n\")\n",
    "\n",
    "    current_group = current_subgroup = None\n",
    "    emoji_categories = {}\n",
    "\n",
    "    for line in lines:\n",
    "        if line.startswith(\"# group:\"):\n",
    "            current_group = line.split(\": \")[1]\n",
    "        elif line.startswith(\"# subgroup:\"):\n",
    "            current_subgroup = line.split(\": \")[1]\n",
    "        elif line and not line.startswith(\"#\"):\n",
    "            emoji_str = re.findall(r\"#\\s(.+)\", line.split(\";\")[1])[0].split()[0].strip()\n",
    "            emoji_categories[emoji_str] = {\n",
    "                \"group\": current_group,\n",
    "                \"subgroup\": current_subgroup,\n",
    "            }\n",
    "\n",
    "    return emoji_categories\n",
    "\n",
    "emoji_categories = fetch_emoji_data()"
   ]
  },
  {
   "cell_type": "code",
   "execution_count": 5,
   "metadata": {},
   "outputs": [
    {
     "name": "stdout",
     "output_type": "stream",
     "text": [
      "{'group': 'Smileys & Emotion', 'subgroup': 'face-smiling'}\n",
      "{'group': 'Smileys & Emotion', 'subgroup': 'face-smiling'}\n"
     ]
    }
   ],
   "source": [
    "# store all possible emojis in a set that will remain constant\n",
    "EMOJI_SET = set(emoji_categories.keys())\n",
    "\n",
    "# explore categories\n",
    "print(emoji_categories[emoji.emojize(\":grinning_face_with_big_eyes:\")])\n",
    "print(emoji_categories[\"😃\"]) # equivalent to line above"
   ]
  },
  {
   "cell_type": "code",
   "execution_count": 6,
   "metadata": {},
   "outputs": [
    {
     "data": {
      "text/html": [
       "<div>\n",
       "<style scoped>\n",
       "    .dataframe tbody tr th:only-of-type {\n",
       "        vertical-align: middle;\n",
       "    }\n",
       "\n",
       "    .dataframe tbody tr th {\n",
       "        vertical-align: top;\n",
       "    }\n",
       "\n",
       "    .dataframe thead th {\n",
       "        text-align: right;\n",
       "    }\n",
       "</style>\n",
       "<table border=\"1\" class=\"dataframe\">\n",
       "  <thead>\n",
       "    <tr style=\"text-align: right;\">\n",
       "      <th></th>\n",
       "      <th>emoji</th>\n",
       "      <th>category</th>\n",
       "      <th>subgroup</th>\n",
       "    </tr>\n",
       "  </thead>\n",
       "  <tbody>\n",
       "    <tr>\n",
       "      <th>2388</th>\n",
       "      <td>🤸🏾‍♀️</td>\n",
       "      <td>People &amp; Body</td>\n",
       "      <td>person-sport</td>\n",
       "    </tr>\n",
       "    <tr>\n",
       "      <th>2574</th>\n",
       "      <td>👭🏾</td>\n",
       "      <td>People &amp; Body</td>\n",
       "      <td>family</td>\n",
       "    </tr>\n",
       "    <tr>\n",
       "      <th>3091</th>\n",
       "      <td>🐈</td>\n",
       "      <td>Animals &amp; Nature</td>\n",
       "      <td>animal-mammal</td>\n",
       "    </tr>\n",
       "    <tr>\n",
       "      <th>834</th>\n",
       "      <td>🙇🏼‍♂</td>\n",
       "      <td>People &amp; Body</td>\n",
       "      <td>person-gesture</td>\n",
       "    </tr>\n",
       "    <tr>\n",
       "      <th>1317</th>\n",
       "      <td>🕵🏾‍♀</td>\n",
       "      <td>People &amp; Body</td>\n",
       "      <td>person-role</td>\n",
       "    </tr>\n",
       "  </tbody>\n",
       "</table>\n",
       "</div>"
      ],
      "text/plain": [
       "      emoji          category        subgroup\n",
       "2388  🤸🏾‍♀️     People & Body    person-sport\n",
       "2574     👭🏾     People & Body          family\n",
       "3091      🐈  Animals & Nature   animal-mammal\n",
       "834    🙇🏼‍♂     People & Body  person-gesture\n",
       "1317   🕵🏾‍♀     People & Body     person-role"
      ]
     },
     "execution_count": 6,
     "metadata": {},
     "output_type": "execute_result"
    }
   ],
   "source": [
    "# store all emojis, categories and subgroups in a dataframe for convenience\n",
    "emoji_df = pd.DataFrame.from_dict(emoji_categories, orient=\"index\").reset_index()\n",
    "emoji_df.columns = [\"emoji\", \"category\", \"subgroup\"]\n",
    "emoji_df.sample(5)"
   ]
  },
  {
   "cell_type": "code",
   "execution_count": 45,
   "metadata": {},
   "outputs": [
    {
     "data": {
      "text/html": [
       "<div>\n",
       "<style scoped>\n",
       "    .dataframe tbody tr th:only-of-type {\n",
       "        vertical-align: middle;\n",
       "    }\n",
       "\n",
       "    .dataframe tbody tr th {\n",
       "        vertical-align: top;\n",
       "    }\n",
       "\n",
       "    .dataframe thead th {\n",
       "        text-align: right;\n",
       "    }\n",
       "</style>\n",
       "<table border=\"1\" class=\"dataframe\">\n",
       "  <thead>\n",
       "    <tr style=\"text-align: right;\">\n",
       "      <th></th>\n",
       "      <th>emoji</th>\n",
       "      <th>category</th>\n",
       "      <th>subgroup</th>\n",
       "    </tr>\n",
       "  </thead>\n",
       "  <tbody>\n",
       "    <tr>\n",
       "      <th>221</th>\n",
       "      <td>✌🏻</td>\n",
       "      <td>People &amp; Body</td>\n",
       "      <td>hand-fingers-partial</td>\n",
       "    </tr>\n",
       "    <tr>\n",
       "      <th>4174</th>\n",
       "      <td>⚜️</td>\n",
       "      <td>Symbols</td>\n",
       "      <td>other-symbol</td>\n",
       "    </tr>\n",
       "    <tr>\n",
       "      <th>3235</th>\n",
       "      <td>🍐</td>\n",
       "      <td>Food &amp; Drink</td>\n",
       "      <td>food-fruit</td>\n",
       "    </tr>\n",
       "    <tr>\n",
       "      <th>3653</th>\n",
       "      <td>🏀</td>\n",
       "      <td>Activities</td>\n",
       "      <td>sport</td>\n",
       "    </tr>\n",
       "    <tr>\n",
       "      <th>4007</th>\n",
       "      <td>⚰️</td>\n",
       "      <td>Objects</td>\n",
       "      <td>other-object</td>\n",
       "    </tr>\n",
       "  </tbody>\n",
       "</table>\n",
       "</div>"
      ],
      "text/plain": [
       "     emoji       category              subgroup\n",
       "221     ✌🏻  People & Body  hand-fingers-partial\n",
       "4174    ⚜️        Symbols          other-symbol\n",
       "3235     🍐   Food & Drink            food-fruit\n",
       "3653     🏀     Activities                 sport\n",
       "4007    ⚰️        Objects          other-object"
      ]
     },
     "execution_count": 45,
     "metadata": {},
     "output_type": "execute_result"
    }
   ],
   "source": [
    "tweets_emoji_categories_df = emoji_df[emoji_df[\"emoji\"].isin(tweets_unique_emojis)]\n",
    "tweets_emoji_categories_df.sample(5)"
   ]
  },
  {
   "cell_type": "code",
   "execution_count": 50,
   "metadata": {},
   "outputs": [],
   "source": [
    "def extract_uniq_emojis(text: str, emoji_set: set) -> np.array:\n",
    "    \"\"\"Extracts unique emojis from the text.\"\"\"\n",
    "    return np.unique([chr for chr in text if chr in emoji_set])\n",
    "\n",
    "\n",
    "def extract_uniq_emoji_categories(\n",
    "    text: str, emoji_set: set, emoji_categories: Dict[str, Dict[str, str]]\n",
    ") -> np.array:\n",
    "    \"\"\"Extracts unique emoji categories from the text.\"\"\"\n",
    "    return np.unique(\n",
    "        [emoji_categories[chr][\"group\"] for chr in text if chr in emoji_set]\n",
    "    )\n",
    "\n",
    "\n",
    "def extract_uniq_emojis_subgroups(\n",
    "    text: str, emoji_set: set, emoji_categories: Dict[str, Dict[str, str]]\n",
    ") -> np.array:\n",
    "    \"\"\"Extracts unique emoji subgroups from the text.\"\"\"\n",
    "    return np.unique(\n",
    "        [emoji_categories[chr][\"subgroup\"] for chr in text if chr in emoji_set]\n",
    "    )"
   ]
  },
  {
   "cell_type": "code",
   "execution_count": 52,
   "metadata": {},
   "outputs": [
    {
     "data": {
      "text/html": [
       "<div>\n",
       "<style scoped>\n",
       "    .dataframe tbody tr th:only-of-type {\n",
       "        vertical-align: middle;\n",
       "    }\n",
       "\n",
       "    .dataframe tbody tr th {\n",
       "        vertical-align: top;\n",
       "    }\n",
       "\n",
       "    .dataframe thead th {\n",
       "        text-align: right;\n",
       "    }\n",
       "</style>\n",
       "<table border=\"1\" class=\"dataframe\">\n",
       "  <thead>\n",
       "    <tr style=\"text-align: right;\">\n",
       "      <th></th>\n",
       "      <th>text</th>\n",
       "      <th>emoji_count</th>\n",
       "      <th>emoji_categories</th>\n",
       "      <th>emoji_subgroups</th>\n",
       "      <th>emojis</th>\n",
       "    </tr>\n",
       "  </thead>\n",
       "  <tbody>\n",
       "    <tr>\n",
       "      <th>0</th>\n",
       "      <td>RT @CalorieFixess: 🍗🌯🍔🍒 400 Calories https://t...</td>\n",
       "      <td>4</td>\n",
       "      <td>[Food &amp; Drink]</td>\n",
       "      <td>[food-fruit, food-prepared]</td>\n",
       "      <td>[🌯, 🍒, 🍔, 🍗]</td>\n",
       "    </tr>\n",
       "    <tr>\n",
       "      <th>1</th>\n",
       "      <td>RT @1_F_I_R_S_T: _ 🍈¹〉Grow your account fast! ...</td>\n",
       "      <td>7</td>\n",
       "      <td>[Food &amp; Drink]</td>\n",
       "      <td>[food-fruit]</td>\n",
       "      <td>[🍇, 🍈, 🍉, 🍊, 🍍, 🍓]</td>\n",
       "    </tr>\n",
       "    <tr>\n",
       "      <th>2</th>\n",
       "      <td>RT @LegendDeols: 👉👉👉G€T Ready to dance💃🕺🕺🕺💃💃💃 ...</td>\n",
       "      <td>24</td>\n",
       "      <td>[Food &amp; Drink, Objects, People &amp; Body, Symbols]</td>\n",
       "      <td>[clothing, drink, hand-single-finger, keycap, ...</td>\n",
       "      <td>[🍸, 🎧, 👉, 👒, 💃, 🔟, 🕺, 🥃]</td>\n",
       "    </tr>\n",
       "    <tr>\n",
       "      <th>3</th>\n",
       "      <td>@britch_x Hubby's friend bought us Wendy's-che...</td>\n",
       "      <td>2</td>\n",
       "      <td>[Food &amp; Drink]</td>\n",
       "      <td>[food-prepared]</td>\n",
       "      <td>[🍔, 🍟]</td>\n",
       "    </tr>\n",
       "    <tr>\n",
       "      <th>4</th>\n",
       "      <td>RT @DAILYPUPPlES: Workout partner ☕🍌😍 https://...</td>\n",
       "      <td>3</td>\n",
       "      <td>[Food &amp; Drink, Smileys &amp; Emotion]</td>\n",
       "      <td>[drink, face-affection, food-fruit]</td>\n",
       "      <td>[☕, 🍌, 😍]</td>\n",
       "    </tr>\n",
       "  </tbody>\n",
       "</table>\n",
       "</div>"
      ],
      "text/plain": [
       "                                                text  emoji_count  \\\n",
       "0  RT @CalorieFixess: 🍗🌯🍔🍒 400 Calories https://t...            4   \n",
       "1  RT @1_F_I_R_S_T: _ 🍈¹〉Grow your account fast! ...            7   \n",
       "2  RT @LegendDeols: 👉👉👉G€T Ready to dance💃🕺🕺🕺💃💃💃 ...           24   \n",
       "3  @britch_x Hubby's friend bought us Wendy's-che...            2   \n",
       "4  RT @DAILYPUPPlES: Workout partner ☕🍌😍 https://...            3   \n",
       "\n",
       "                                  emoji_categories  \\\n",
       "0                                   [Food & Drink]   \n",
       "1                                   [Food & Drink]   \n",
       "2  [Food & Drink, Objects, People & Body, Symbols]   \n",
       "3                                   [Food & Drink]   \n",
       "4                [Food & Drink, Smileys & Emotion]   \n",
       "\n",
       "                                     emoji_subgroups                    emojis  \n",
       "0                        [food-fruit, food-prepared]              [🌯, 🍒, 🍔, 🍗]  \n",
       "1                                       [food-fruit]        [🍇, 🍈, 🍉, 🍊, 🍍, 🍓]  \n",
       "2  [clothing, drink, hand-single-finger, keycap, ...  [🍸, 🎧, 👉, 👒, 💃, 🔟, 🕺, 🥃]  \n",
       "3                                    [food-prepared]                    [🍔, 🍟]  \n",
       "4                [drink, face-affection, food-fruit]                 [☕, 🍌, 😍]  "
      ]
     },
     "execution_count": 52,
     "metadata": {},
     "output_type": "execute_result"
    }
   ],
   "source": [
    "tweets_df[\"emojis\"] = tweets_df[\"text\"].apply(lambda x: extract_uniq_emojis(x, EMOJI_SET))\n",
    "tweets_df[\"emoji_categories\"] = tweets_df.text.apply(\n",
    "    lambda x: extract_uniq_emoji_categories(x, EMOJI_SET, emoji_categories)\n",
    ")\n",
    "tweets_df[\"emoji_subgroups\"] = tweets_df.text.apply(\n",
    "    lambda x: extract_uniq_emojis_subgroups(x, EMOJI_SET, emoji_categories)\n",
    ")\n",
    "\n",
    "tweets_df.head()"
   ]
  },
  {
   "cell_type": "code",
   "execution_count": 53,
   "metadata": {},
   "outputs": [
    {
     "name": "stderr",
     "output_type": "stream",
     "text": [
      "/usr/local/lib/python3.10/site-packages/squarify/__init__.py:231: MatplotlibDeprecationWarning:\n",
      "\n",
      "The get_cmap function was deprecated in Matplotlib 3.7 and will be removed two minor releases later. Use ``matplotlib.colormaps[name]`` or ``matplotlib.colormaps.get_cmap(obj)`` instead.\n",
      "\n"
     ]
    },
    {
     "data": {
      "image/png": "[encoded data removed]",
      "text/plain": [
       "<Figure size 1000x600 with 1 Axes>"
      ]
     },
     "metadata": {},
     "output_type": "display_data"
    }
   ],
   "source": [
    "# Flatten the list of categories and calculate the counts\n",
    "category_counts = tweets_df[\"emoji_categories\"].explode().value_counts()\n",
    "subcategories_counts = tweets_df[\"emoji_subgroups\"].explode().value_counts()\n",
    "\n",
    "# Create a treemap\n",
    "fig = plt.figure(figsize=(10, 6))\n",
    "squarify.plot(sizes=category_counts.values, label=category_counts.index, alpha=0.6)\n",
    "plt.title(\"Treemap of Emoji Categories\")\n",
    "plt.axis(\"off\")\n",
    "plt.show()"
   ]
  },
  {
   "cell_type": "code",
   "execution_count": 54,
   "metadata": {},
   "outputs": [
    {
     "data": {
      "application/vnd.plotly.v1+json": {
       "config": {
        "plotlyServerURL": "https://plot.ly"
       },
       "data": [
        {
         "branchvalues": "total",
         "customdata": [
          [
           "(?)"
          ],
          [
           "(?)"
          ],
          [
           "(?)"
          ],
          [
           "(?)"
          ],
          [
           "(?)"
          ],
          [
           "(?)"
          ],
          [
           "(?)"
          ],
          [
           "(?)"
          ],
          [
           "event"
          ],
          [
           "emotion"
          ],
          [
           "dishware"
          ],
          [
           "currency"
          ],
          [
           "country-flag"
          ],
          [
           "computer"
          ],
          [
           "drink"
          ],
          [
           "cat-face"
          ],
          [
           "clothing"
          ],
          [
           "plant-flower"
          ],
          [
           "place-map"
          ],
          [
           "money"
          ],
          [
           "monkey-face"
          ],
          [
           "music"
          ],
          [
           "musical-instrument"
          ],
          [
           "office"
          ],
          [
           "other-object"
          ],
          [
           "other-symbol"
          ],
          [
           "person"
          ],
          [
           "person-activity"
          ],
          [
           "person-gesture"
          ],
          [
           "person-resting"
          ],
          [
           "person-role"
          ],
          [
           "place-geographic"
          ],
          [
           "place-building"
          ],
          [
           "plant-other"
          ],
          [
           "phone"
          ],
          [
           "person-symbol"
          ],
          [
           "person-sport"
          ],
          [
           "person-fantasy"
          ],
          [
           "place-other"
          ],
          [
           "place-religious"
          ],
          [
           "transport-air"
          ],
          [
           "(?)"
          ],
          [
           "zodiac"
          ],
          [
           "writing"
          ],
          [
           "warning"
          ],
          [
           "transport-water"
          ],
          [
           "transport-ground"
          ],
          [
           "transport-sign"
          ],
          [
           "mail"
          ],
          [
           "medical"
          ],
          [
           "math"
          ],
          [
           "face-smiling"
          ],
          [
           "face-sleepy"
          ],
          [
           "face-negative"
          ],
          [
           "face-neutral-skeptical"
          ],
          [
           "light & video"
          ],
          [
           "lock"
          ],
          [
           "time"
          ],
          [
           "subdivision-flag"
          ],
          [
           "sport"
          ],
          [
           "punctuation"
          ],
          [
           "religion"
          ],
          [
           "science"
          ],
          [
           "sky & weather"
          ],
          [
           "sound"
          ],
          [
           "tool"
          ],
          [
           "food-sweet"
          ],
          [
           "family"
          ],
          [
           "face-unwell"
          ],
          [
           "food-marine"
          ],
          [
           "flag"
          ],
          [
           "food-asian"
          ],
          [
           "food-fruit"
          ],
          [
           "face-tongue"
          ],
          [
           "food-prepared"
          ],
          [
           "hand-fingers-closed"
          ],
          [
           "geometric"
          ],
          [
           "gender"
          ],
          [
           "game"
          ],
          [
           "food-vegetable"
          ],
          [
           "alphanum"
          ],
          [
           "book-paper"
          ],
          [
           "av-symbol"
          ],
          [
           "award-medal"
          ],
          [
           "body-parts"
          ],
          [
           "animal-reptile"
          ],
          [
           "arts & crafts"
          ],
          [
           "arrow"
          ],
          [
           "animal-marine"
          ],
          [
           "animal-mammal"
          ],
          [
           "animal-bug"
          ],
          [
           "animal-bird"
          ],
          [
           "animal-amphibian"
          ],
          [
           "face-hand"
          ],
          [
           "face-costume"
          ],
          [
           "face-concerned"
          ],
          [
           "face-affection"
          ],
          [
           "face-hat"
          ],
          [
           "face-glasses"
          ],
          [
           "hotel"
          ],
          [
           "hand-fingers-open"
          ],
          [
           "hand-fingers-partial"
          ],
          [
           "hand-prop"
          ],
          [
           "hand-single-finger"
          ],
          [
           "hands"
          ],
          [
           "household"
          ],
          [
           "keycap"
          ]
         ],
         "domain": {
          "x": [
           0,
           1
          ],
          "y": [
           0,
           1
          ]
         },
         "hovertemplate": "labels=%{label}<br>count=%{value}<br>parent=%{parent}<br>id=%{id}<br>subgroup=%{customdata[0]}<extra></extra>",
         "ids": [
          "Travel & Places",
          "Smileys & Emotion",
          "People & Body",
          "Objects",
          "Food & Drink",
          "Flags",
          "Animals & Nature",
          "Symbols",
          "Activities/event",
          "Smileys & Emotion/emotion",
          "Food & Drink/dishware",
          "Symbols/currency",
          "Flags/country-flag",
          "Objects/computer",
          "Food & Drink/drink",
          "Smileys & Emotion/cat-face",
          "Objects/clothing",
          "Animals & Nature/plant-flower",
          "Travel & Places/place-map",
          "Objects/money",
          "Smileys & Emotion/monkey-face",
          "Objects/music",
          "Objects/musical-instrument",
          "Objects/office",
          "Objects/other-object",
          "Symbols/other-symbol",
          "People & Body/person",
          "People & Body/person-activity",
          "People & Body/person-gesture",
          "People & Body/person-resting",
          "People & Body/person-role",
          "Travel & Places/place-geographic",
          "Travel & Places/place-building",
          "Animals & Nature/plant-other",
          "Objects/phone",
          "People & Body/person-symbol",
          "People & Body/person-sport",
          "People & Body/person-fantasy",
          "Travel & Places/place-other",
          "Travel & Places/place-religious",
          "Travel & Places/transport-air",
          "Activities",
          "Symbols/zodiac",
          "Objects/writing",
          "Symbols/warning",
          "Travel & Places/transport-water",
          "Travel & Places/transport-ground",
          "Symbols/transport-sign",
          "Objects/mail",
          "Objects/medical",
          "Symbols/math",
          "Smileys & Emotion/face-smiling",
          "Smileys & Emotion/face-sleepy",
          "Smileys & Emotion/face-negative",
          "Smileys & Emotion/face-neutral-skeptical",
          "Objects/light & video",
          "Objects/lock",
          "Travel & Places/time",
          "Flags/subdivision-flag",
          "Activities/sport",
          "Symbols/punctuation",
          "Symbols/religion",
          "Objects/science",
          "Travel & Places/sky & weather",
          "Objects/sound",
          "Objects/tool",
          "Food & Drink/food-sweet",
          "People & Body/family",
          "Smileys & Emotion/face-unwell",
          "Food & Drink/food-marine",
          "Flags/flag",
          "Food & Drink/food-asian",
          "Food & Drink/food-fruit",
          "Smileys & Emotion/face-tongue",
          "Food & Drink/food-prepared",
          "People & Body/hand-fingers-closed",
          "Symbols/geometric",
          "Symbols/gender",
          "Activities/game",
          "Food & Drink/food-vegetable",
          "Symbols/alphanum",
          "Objects/book-paper",
          "Symbols/av-symbol",
          "Activities/award-medal",
          "People & Body/body-parts",
          "Animals & Nature/animal-reptile",
          "Activities/arts & crafts",
          "Symbols/arrow",
          "Animals & Nature/animal-marine",
          "Animals & Nature/animal-mammal",
          "Animals & Nature/animal-bug",
          "Animals & Nature/animal-bird",
          "Animals & Nature/animal-amphibian",
          "Smileys & Emotion/face-hand",
          "Smileys & Emotion/face-costume",
          "Smileys & Emotion/face-concerned",
          "Smileys & Emotion/face-affection",
          "Smileys & Emotion/face-hat",
          "Smileys & Emotion/face-glasses",
          "Travel & Places/hotel",
          "People & Body/hand-fingers-open",
          "People & Body/hand-fingers-partial",
          "People & Body/hand-prop",
          "People & Body/hand-single-finger",
          "People & Body/hands",
          "Objects/household",
          "Symbols/keycap"
         ],
         "labels": [
          "Travel & Places",
          "Smileys & Emotion",
          "People & Body",
          "Objects",
          "Food & Drink",
          "Flags",
          "Animals & Nature",
          "Symbols",
          "event",
          "emotion",
          "dishware",
          "currency",
          "country-flag",
          "computer",
          "drink",
          "cat-face",
          "clothing",
          "plant-flower",
          "place-map",
          "money",
          "monkey-face",
          "music",
          "musical-instrument",
          "office",
          "other-object",
          "other-symbol",
          "person",
          "person-activity",
          "person-gesture",
          "person-resting",
          "person-role",
          "place-geographic",
          "place-building",
          "plant-other",
          "phone",
          "person-symbol",
          "person-sport",
          "person-fantasy",
          "place-other",
          "place-religious",
          "transport-air",
          "Activities",
          "zodiac",
          "writing",
          "warning",
          "transport-water",
          "transport-ground",
          "transport-sign",
          "mail",
          "medical",
          "math",
          "face-smiling",
          "face-sleepy",
          "face-negative",
          "face-neutral-skeptical",
          "light & video",
          "lock",
          "time",
          "subdivision-flag",
          "sport",
          "punctuation",
          "religion",
          "science",
          "sky & weather",
          "sound",
          "tool",
          "food-sweet",
          "family",
          "face-unwell",
          "food-marine",
          "flag",
          "food-asian",
          "food-fruit",
          "face-tongue",
          "food-prepared",
          "hand-fingers-closed",
          "geometric",
          "gender",
          "game",
          "food-vegetable",
          "alphanum",
          "book-paper",
          "av-symbol",
          "award-medal",
          "body-parts",
          "animal-reptile",
          "arts & crafts",
          "arrow",
          "animal-marine",
          "animal-mammal",
          "animal-bug",
          "animal-bird",
          "animal-amphibian",
          "face-hand",
          "face-costume",
          "face-concerned",
          "face-affection",
          "face-hat",
          "face-glasses",
          "hotel",
          "hand-fingers-open",
          "hand-fingers-partial",
          "hand-prop",
          "hand-single-finger",
          "hands",
          "household",
          "keycap"
         ],
         "marker": {
          "colors": [
           "#636efa",
           "#636efa",
           "#636efa",
           "#636efa",
           "#636efa",
           "#636efa",
           "#636efa",
           "#636efa",
           "#EF553B",
           "#00cc96",
           "#ab63fa",
           "#FFA15A",
           "#19d3f3",
           "#FF6692",
           "#B6E880",
           "#FF97FF",
           "#FECB52",
           "#636efa",
           "#EF553B",
           "#00cc96",
           "#ab63fa",
           "#FFA15A",
           "#19d3f3",
           "#FF6692",
           "#B6E880",
           "#FF97FF",
           "#FECB52",
           "#636efa",
           "#EF553B",
           "#00cc96",
           "#ab63fa",
           "#FFA15A",
           "#19d3f3",
           "#FF6692",
           "#B6E880",
           "#FF97FF",
           "#FECB52",
           "#636efa",
           "#EF553B",
           "#00cc96",
           "#ab63fa",
           "#636efa",
           "#FFA15A",
           "#19d3f3",
           "#FF6692",
           "#B6E880",
           "#FF97FF",
           "#FECB52",
           "#636efa",
           "#EF553B",
           "#00cc96",
           "#ab63fa",
           "#FFA15A",
           "#19d3f3",
           "#FF6692",
           "#B6E880",
           "#FF97FF",
           "#FECB52",
           "#636efa",
           "#EF553B",
           "#00cc96",
           "#ab63fa",
           "#FFA15A",
           "#19d3f3",
           "#FF6692",
           "#B6E880",
           "#FF97FF",
           "#FECB52",
           "#636efa",
           "#EF553B",
           "#00cc96",
           "#ab63fa",
           "#FFA15A",
           "#19d3f3",
           "#FF6692",
           "#B6E880",
           "#FF97FF",
           "#FECB52",
           "#636efa",
           "#EF553B",
           "#00cc96",
           "#ab63fa",
           "#FFA15A",
           "#19d3f3",
           "#FF6692",
           "#B6E880",
           "#FF97FF",
           "#FECB52",
           "#636efa",
           "#EF553B",
           "#00cc96",
           "#ab63fa",
           "#FFA15A",
           "#19d3f3",
           "#FF6692",
           "#B6E880",
           "#FF97FF",
           "#FECB52",
           "#636efa",
           "#EF553B",
           "#00cc96",
           "#ab63fa",
           "#FFA15A",
           "#19d3f3",
           "#FF6692",
           "#B6E880",
           "#FF97FF"
          ]
         },
         "name": "",
         "parents": [
          "",
          "",
          "",
          "",
          "",
          "",
          "",
          "",
          "Activities",
          "Smileys & Emotion",
          "Food & Drink",
          "Symbols",
          "Flags",
          "Objects",
          "Food & Drink",
          "Smileys & Emotion",
          "Objects",
          "Animals & Nature",
          "Travel & Places",
          "Objects",
          "Smileys & Emotion",
          "Objects",
          "Objects",
          "Objects",
          "Objects",
          "Symbols",
          "People & Body",
          "People & Body",
          "People & Body",
          "People & Body",
          "People & Body",
          "Travel & Places",
          "Travel & Places",
          "Animals & Nature",
          "Objects",
          "People & Body",
          "People & Body",
          "People & Body",
          "Travel & Places",
          "Travel & Places",
          "Travel & Places",
          "",
          "Symbols",
          "Objects",
          "Symbols",
          "Travel & Places",
          "Travel & Places",
          "Symbols",
          "Objects",
          "Objects",
          "Symbols",
          "Smileys & Emotion",
          "Smileys & Emotion",
          "Smileys & Emotion",
          "Smileys & Emotion",
          "Objects",
          "Objects",
          "Travel & Places",
          "Flags",
          "Activities",
          "Symbols",
          "Symbols",
          "Objects",
          "Travel & Places",
          "Objects",
          "Objects",
          "Food & Drink",
          "People & Body",
          "Smileys & Emotion",
          "Food & Drink",
          "Flags",
          "Food & Drink",
          "Food & Drink",
          "Smileys & Emotion",
          "Food & Drink",
          "People & Body",
          "Symbols",
          "Symbols",
          "Activities",
          "Food & Drink",
          "Symbols",
          "Objects",
          "Symbols",
          "Activities",
          "People & Body",
          "Animals & Nature",
          "Activities",
          "Symbols",
          "Animals & Nature",
          "Animals & Nature",
          "Animals & Nature",
          "Animals & Nature",
          "Animals & Nature",
          "Smileys & Emotion",
          "Smileys & Emotion",
          "Smileys & Emotion",
          "Smileys & Emotion",
          "Smileys & Emotion",
          "Smileys & Emotion",
          "Travel & Places",
          "People & Body",
          "People & Body",
          "People & Body",
          "People & Body",
          "People & Body",
          "Objects",
          "Symbols"
         ],
         "type": "sunburst",
         "values": [
          185,
          144,
          429,
          178,
          114,
          63,
          110,
          173,
          20,
          33,
          7,
          1,
          57,
          10,
          14,
          9,
          33,
          11,
          7,
          8,
          3,
          8,
          6,
          15,
          5,
          28,
          30,
          35,
          53,
          9,
          66,
          14,
          17,
          13,
          7,
          5,
          47,
          29,
          16,
          3,
          12,
          60,
          10,
          7,
          11,
          8,
          36,
          5,
          7,
          2,
          4,
          13,
          5,
          9,
          9,
          14,
          5,
          15,
          1,
          15,
          9,
          7,
          3,
          55,
          9,
          15,
          14,
          22,
          8,
          4,
          5,
          17,
          17,
          6,
          28,
          20,
          14,
          1,
          17,
          13,
          33,
          14,
          10,
          5,
          16,
          8,
          3,
          21,
          9,
          46,
          9,
          13,
          1,
          4,
          8,
          23,
          9,
          2,
          3,
          2,
          10,
          30,
          13,
          23,
          21,
          10,
          19
         ]
        }
       ],
       "layout": {
        "legend": {
         "tracegroupgap": 0
        },
        "margin": {
         "t": 60
        },
        "template": {
         "data": {
          "bar": [
           {
            "error_x": {
             "color": "#2a3f5f"
            },
            "error_y": {
             "color": "#2a3f5f"
            },
            "marker": {
             "line": {
              "color": "#E5ECF6",
              "width": 0.5
             },
             "pattern": {
              "fillmode": "overlay",
              "size": 10,
              "solidity": 0.2
             }
            },
            "type": "bar"
           }
          ],
          "barpolar": [
           {
            "marker": {
             "line": {
              "color": "#E5ECF6",
              "width": 0.5
             },
             "pattern": {
              "fillmode": "overlay",
              "size": 10,
              "solidity": 0.2
             }
            },
            "type": "barpolar"
           }
          ],
          "carpet": [
           {
            "aaxis": {
             "endlinecolor": "#2a3f5f",
             "gridcolor": "white",
             "linecolor": "white",
             "minorgridcolor": "white",
             "startlinecolor": "#2a3f5f"
            },
            "baxis": {
             "endlinecolor": "#2a3f5f",
             "gridcolor": "white",
             "linecolor": "white",
             "minorgridcolor": "white",
             "startlinecolor": "#2a3f5f"
            },
            "type": "carpet"
           }
          ],
          "choropleth": [
           {
            "colorbar": {
             "outlinewidth": 0,
             "ticks": ""
            },
            "type": "choropleth"
           }
          ],
          "contour": [
           {
            "colorbar": {
             "outlinewidth": 0,
             "ticks": ""
            },
            "colorscale": [
             [
              0,
              "#0d0887"
             ],
             [
              0.1111111111111111,
              "#46039f"
             ],
             [
              0.2222222222222222,
              "#7201a8"
             ],
             [
              0.3333333333333333,
              "#9c179e"
             ],
             [
              0.4444444444444444,
              "#bd3786"
             ],
             [
              0.5555555555555556,
              "#d8576b"
             ],
             [
              0.6666666666666666,
              "#ed7953"
             ],
             [
              0.7777777777777778,
              "#fb9f3a"
             ],
             [
              0.8888888888888888,
              "#fdca26"
             ],
             [
              1,
              "#f0f921"
             ]
            ],
            "type": "contour"
           }
          ],
          "contourcarpet": [
           {
            "colorbar": {
             "outlinewidth": 0,
             "ticks": ""
            },
            "type": "contourcarpet"
           }
          ],
          "heatmap": [
           {
            "colorbar": {
             "outlinewidth": 0,
             "ticks": ""
            },
            "colorscale": [
             [
              0,
              "#0d0887"
             ],
             [
              0.1111111111111111,
              "#46039f"
             ],
             [
              0.2222222222222222,
              "#7201a8"
             ],
             [
              0.3333333333333333,
              "#9c179e"
             ],
             [
              0.4444444444444444,
              "#bd3786"
             ],
             [
              0.5555555555555556,
              "#d8576b"
             ],
             [
              0.6666666666666666,
              "#ed7953"
             ],
             [
              0.7777777777777778,
              "#fb9f3a"
             ],
             [
              0.8888888888888888,
              "#fdca26"
             ],
             [
              1,
              "#f0f921"
             ]
            ],
            "type": "heatmap"
           }
          ],
          "heatmapgl": [
           {
            "colorbar": {
             "outlinewidth": 0,
             "ticks": ""
            },
            "colorscale": [
             [
              0,
              "#0d0887"
             ],
             [
              0.1111111111111111,
              "#46039f"
             ],
             [
              0.2222222222222222,
              "#7201a8"
             ],
             [
              0.3333333333333333,
              "#9c179e"
             ],
             [
              0.4444444444444444,
              "#bd3786"
             ],
             [
              0.5555555555555556,
              "#d8576b"
             ],
             [
              0.6666666666666666,
              "#ed7953"
             ],
             [
              0.7777777777777778,
              "#fb9f3a"
             ],
             [
              0.8888888888888888,
              "#fdca26"
             ],
             [
              1,
              "#f0f921"
             ]
            ],
            "type": "heatmapgl"
           }
          ],
          "histogram": [
           {
            "marker": {
             "pattern": {
              "fillmode": "overlay",
              "size": 10,
              "solidity": 0.2
             }
            },
            "type": "histogram"
           }
          ],
          "histogram2d": [
           {
            "colorbar": {
             "outlinewidth": 0,
             "ticks": ""
            },
            "colorscale": [
             [
              0,
              "#0d0887"
             ],
             [
              0.1111111111111111,
              "#46039f"
             ],
             [
              0.2222222222222222,
              "#7201a8"
             ],
             [
              0.3333333333333333,
              "#9c179e"
             ],
             [
              0.4444444444444444,
              "#bd3786"
             ],
             [
              0.5555555555555556,
              "#d8576b"
             ],
             [
              0.6666666666666666,
              "#ed7953"
             ],
             [
              0.7777777777777778,
              "#fb9f3a"
             ],
             [
              0.8888888888888888,
              "#fdca26"
             ],
             [
              1,
              "#f0f921"
             ]
            ],
            "type": "histogram2d"
           }
          ],
          "histogram2dcontour": [
           {
            "colorbar": {
             "outlinewidth": 0,
             "ticks": ""
            },
            "colorscale": [
             [
              0,
              "#0d0887"
             ],
             [
              0.1111111111111111,
              "#46039f"
             ],
             [
              0.2222222222222222,
              "#7201a8"
             ],
             [
              0.3333333333333333,
              "#9c179e"
             ],
             [
              0.4444444444444444,
              "#bd3786"
             ],
             [
              0.5555555555555556,
              "#d8576b"
             ],
             [
              0.6666666666666666,
              "#ed7953"
             ],
             [
              0.7777777777777778,
              "#fb9f3a"
             ],
             [
              0.8888888888888888,
              "#fdca26"
             ],
             [
              1,
              "#f0f921"
             ]
            ],
            "type": "histogram2dcontour"
           }
          ],
          "mesh3d": [
           {
            "colorbar": {
             "outlinewidth": 0,
             "ticks": ""
            },
            "type": "mesh3d"
           }
          ],
          "parcoords": [
           {
            "line": {
             "colorbar": {
              "outlinewidth": 0,
              "ticks": ""
             }
            },
            "type": "parcoords"
           }
          ],
          "pie": [
           {
            "automargin": true,
            "type": "pie"
           }
          ],
          "scatter": [
           {
            "fillpattern": {
             "fillmode": "overlay",
             "size": 10,
             "solidity": 0.2
            },
            "type": "scatter"
           }
          ],
          "scatter3d": [
           {
            "line": {
             "colorbar": {
              "outlinewidth": 0,
              "ticks": ""
             }
            },
            "marker": {
             "colorbar": {
              "outlinewidth": 0,
              "ticks": ""
             }
            },
            "type": "scatter3d"
           }
          ],
          "scattercarpet": [
           {
            "marker": {
             "colorbar": {
              "outlinewidth": 0,
              "ticks": ""
             }
            },
            "type": "scattercarpet"
           }
          ],
          "scattergeo": [
           {
            "marker": {
             "colorbar": {
              "outlinewidth": 0,
              "ticks": ""
             }
            },
            "type": "scattergeo"
           }
          ],
          "scattergl": [
           {
            "marker": {
             "colorbar": {
              "outlinewidth": 0,
              "ticks": ""
             }
            },
            "type": "scattergl"
           }
          ],
          "scattermapbox": [
           {
            "marker": {
             "colorbar": {
              "outlinewidth": 0,
              "ticks": ""
             }
            },
            "type": "scattermapbox"
           }
          ],
          "scatterpolar": [
           {
            "marker": {
             "colorbar": {
              "outlinewidth": 0,
              "ticks": ""
             }
            },
            "type": "scatterpolar"
           }
          ],
          "scatterpolargl": [
           {
            "marker": {
             "colorbar": {
              "outlinewidth": 0,
              "ticks": ""
             }
            },
            "type": "scatterpolargl"
           }
          ],
          "scatterternary": [
           {
            "marker": {
             "colorbar": {
              "outlinewidth": 0,
              "ticks": ""
             }
            },
            "type": "scatterternary"
           }
          ],
          "surface": [
           {
            "colorbar": {
             "outlinewidth": 0,
             "ticks": ""
            },
            "colorscale": [
             [
              0,
              "#0d0887"
             ],
             [
              0.1111111111111111,
              "#46039f"
             ],
             [
              0.2222222222222222,
              "#7201a8"
             ],
             [
              0.3333333333333333,
              "#9c179e"
             ],
             [
              0.4444444444444444,
              "#bd3786"
             ],
             [
              0.5555555555555556,
              "#d8576b"
             ],
             [
              0.6666666666666666,
              "#ed7953"
             ],
             [
              0.7777777777777778,
              "#fb9f3a"
             ],
             [
              0.8888888888888888,
              "#fdca26"
             ],
             [
              1,
              "#f0f921"
             ]
            ],
            "type": "surface"
           }
          ],
          "table": [
           {
            "cells": {
             "fill": {
              "color": "#EBF0F8"
             },
             "line": {
              "color": "white"
             }
            },
            "header": {
             "fill": {
              "color": "#C8D4E3"
             },
             "line": {
              "color": "white"
             }
            },
            "type": "table"
           }
          ]
         },
         "layout": {
          "annotationdefaults": {
           "arrowcolor": "#2a3f5f",
           "arrowhead": 0,
           "arrowwidth": 1
          },
          "autotypenumbers": "strict",
          "coloraxis": {
           "colorbar": {
            "outlinewidth": 0,
            "ticks": ""
           }
          },
          "colorscale": {
           "diverging": [
            [
             0,
             "#8e0152"
            ],
            [
             0.1,
             "#c51b7d"
            ],
            [
             0.2,
             "#de77ae"
            ],
            [
             0.3,
             "#f1b6da"
            ],
            [
             0.4,
             "#fde0ef"
            ],
            [
             0.5,
             "#f7f7f7"
            ],
            [
             0.6,
             "#e6f5d0"
            ],
            [
             0.7,
             "#b8e186"
            ],
            [
             0.8,
             "#7fbc41"
            ],
            [
             0.9,
             "#4d9221"
            ],
            [
             1,
             "#276419"
            ]
           ],
           "sequential": [
            [
             0,
             "#0d0887"
            ],
            [
             0.1111111111111111,
             "#46039f"
            ],
            [
             0.2222222222222222,
             "#7201a8"
            ],
            [
             0.3333333333333333,
             "#9c179e"
            ],
            [
             0.4444444444444444,
             "#bd3786"
            ],
            [
             0.5555555555555556,
             "#d8576b"
            ],
            [
             0.6666666666666666,
             "#ed7953"
            ],
            [
             0.7777777777777778,
             "#fb9f3a"
            ],
            [
             0.8888888888888888,
             "#fdca26"
            ],
            [
             1,
             "#f0f921"
            ]
           ],
           "sequentialminus": [
            [
             0,
             "#0d0887"
            ],
            [
             0.1111111111111111,
             "#46039f"
            ],
            [
             0.2222222222222222,
             "#7201a8"
            ],
            [
             0.3333333333333333,
             "#9c179e"
            ],
            [
             0.4444444444444444,
             "#bd3786"
            ],
            [
             0.5555555555555556,
             "#d8576b"
            ],
            [
             0.6666666666666666,
             "#ed7953"
            ],
            [
             0.7777777777777778,
             "#fb9f3a"
            ],
            [
             0.8888888888888888,
             "#fdca26"
            ],
            [
             1,
             "#f0f921"
            ]
           ]
          },
          "colorway": [
           "#636efa",
           "#EF553B",
           "#00cc96",
           "#ab63fa",
           "#FFA15A",
           "#19d3f3",
           "#FF6692",
           "#B6E880",
           "#FF97FF",
           "#FECB52"
          ],
          "font": {
           "color": "#2a3f5f"
          },
          "geo": {
           "bgcolor": "white",
           "lakecolor": "white",
           "landcolor": "#E5ECF6",
           "showlakes": true,
           "showland": true,
           "subunitcolor": "white"
          },
          "hoverlabel": {
           "align": "left"
          },
          "hovermode": "closest",
          "mapbox": {
           "style": "light"
          },
          "paper_bgcolor": "white",
          "plot_bgcolor": "#E5ECF6",
          "polar": {
           "angularaxis": {
            "gridcolor": "white",
            "linecolor": "white",
            "ticks": ""
           },
           "bgcolor": "#E5ECF6",
           "radialaxis": {
            "gridcolor": "white",
            "linecolor": "white",
            "ticks": ""
           }
          },
          "scene": {
           "xaxis": {
            "backgroundcolor": "#E5ECF6",
            "gridcolor": "white",
            "gridwidth": 2,
            "linecolor": "white",
            "showbackground": true,
            "ticks": "",
            "zerolinecolor": "white"
           },
           "yaxis": {
            "backgroundcolor": "#E5ECF6",
            "gridcolor": "white",
            "gridwidth": 2,
            "linecolor": "white",
            "showbackground": true,
            "ticks": "",
            "zerolinecolor": "white"
           },
           "zaxis": {
            "backgroundcolor": "#E5ECF6",
            "gridcolor": "white",
            "gridwidth": 2,
            "linecolor": "white",
            "showbackground": true,
            "ticks": "",
            "zerolinecolor": "white"
           }
          },
          "shapedefaults": {
           "line": {
            "color": "#2a3f5f"
           }
          },
          "ternary": {
           "aaxis": {
            "gridcolor": "white",
            "linecolor": "white",
            "ticks": ""
           },
           "baxis": {
            "gridcolor": "white",
            "linecolor": "white",
            "ticks": ""
           },
           "bgcolor": "#E5ECF6",
           "caxis": {
            "gridcolor": "white",
            "linecolor": "white",
            "ticks": ""
           }
          },
          "title": {
           "x": 0.05
          },
          "xaxis": {
           "automargin": true,
           "gridcolor": "white",
           "linecolor": "white",
           "ticks": "",
           "title": {
            "standoff": 15
           },
           "zerolinecolor": "white",
           "zerolinewidth": 2
          },
          "yaxis": {
           "automargin": true,
           "gridcolor": "white",
           "linecolor": "white",
           "ticks": "",
           "title": {
            "standoff": 15
           },
           "zerolinecolor": "white",
           "zerolinewidth": 2
          }
         }
        }
       }
      }
     },
     "metadata": {},
     "output_type": "display_data"
    }
   ],
   "source": [
    "\n",
    "fig = px.sunburst(\n",
    "    tweets_emoji_categories_df, path=[\"category\", \"subgroup\"], color=\"subgroup\"\n",
    ")\n",
    "fig.show()"
   ]
  },
  {
   "cell_type": "code",
   "execution_count": 49,
   "metadata": {},
   "outputs": [
    {
     "data": {
      "text/html": [
       "<div>\n",
       "<style scoped>\n",
       "    .dataframe tbody tr th:only-of-type {\n",
       "        vertical-align: middle;\n",
       "    }\n",
       "\n",
       "    .dataframe tbody tr th {\n",
       "        vertical-align: top;\n",
       "    }\n",
       "\n",
       "    .dataframe thead th {\n",
       "        text-align: right;\n",
       "    }\n",
       "</style>\n",
       "<table border=\"1\" class=\"dataframe\">\n",
       "  <thead>\n",
       "    <tr style=\"text-align: right;\">\n",
       "      <th></th>\n",
       "      <th>text</th>\n",
       "      <th>emoji_count</th>\n",
       "      <th>emoji_categories</th>\n",
       "      <th>emoji_subgroups</th>\n",
       "    </tr>\n",
       "  </thead>\n",
       "  <tbody>\n",
       "    <tr>\n",
       "      <th>0</th>\n",
       "      <td>RT @CalorieFixess: 🍗🌯🍔🍒 400 Calories https://t...</td>\n",
       "      <td>4</td>\n",
       "      <td>[Food &amp; Drink]</td>\n",
       "      <td>[food-fruit, food-prepared]</td>\n",
       "    </tr>\n",
       "    <tr>\n",
       "      <th>1</th>\n",
       "      <td>RT @1_F_I_R_S_T: _ 🍈¹〉Grow your account fast! ...</td>\n",
       "      <td>7</td>\n",
       "      <td>[Food &amp; Drink]</td>\n",
       "      <td>[food-fruit]</td>\n",
       "    </tr>\n",
       "    <tr>\n",
       "      <th>2</th>\n",
       "      <td>RT @LegendDeols: 👉👉👉G€T Ready to dance💃🕺🕺🕺💃💃💃 ...</td>\n",
       "      <td>24</td>\n",
       "      <td>[Food &amp; Drink, Objects, People &amp; Body, Symbols]</td>\n",
       "      <td>[clothing, drink, hand-single-finger, keycap, ...</td>\n",
       "    </tr>\n",
       "    <tr>\n",
       "      <th>3</th>\n",
       "      <td>@britch_x Hubby's friend bought us Wendy's-che...</td>\n",
       "      <td>2</td>\n",
       "      <td>[Food &amp; Drink]</td>\n",
       "      <td>[food-prepared]</td>\n",
       "    </tr>\n",
       "    <tr>\n",
       "      <th>4</th>\n",
       "      <td>RT @DAILYPUPPlES: Workout partner ☕🍌😍 https://...</td>\n",
       "      <td>3</td>\n",
       "      <td>[Food &amp; Drink, Smileys &amp; Emotion]</td>\n",
       "      <td>[drink, face-affection, food-fruit]</td>\n",
       "    </tr>\n",
       "    <tr>\n",
       "      <th>...</th>\n",
       "      <td>...</td>\n",
       "      <td>...</td>\n",
       "      <td>...</td>\n",
       "      <td>...</td>\n",
       "    </tr>\n",
       "    <tr>\n",
       "      <th>9953</th>\n",
       "      <td>#1stTest Brilliant Tension #England need 2wks ...</td>\n",
       "      <td>6</td>\n",
       "      <td>[Activities, Food &amp; Drink, People &amp; Body, Smil...</td>\n",
       "      <td>[drink, face-smiling, hands, sport]</td>\n",
       "    </tr>\n",
       "    <tr>\n",
       "      <th>9954</th>\n",
       "      <td>RT @Thabang92416252: \"@PinexAndApplex: 🍍🍏 @Emt...</td>\n",
       "      <td>3</td>\n",
       "      <td>[Food &amp; Drink, Travel &amp; Places]</td>\n",
       "      <td>[food-fruit, sky &amp; weather]</td>\n",
       "    </tr>\n",
       "    <tr>\n",
       "      <th>9955</th>\n",
       "      <td>@nuttysteph84 Steph!! 😭😭 🥓☕️🍳🤦🏼‍♂️❤️x</td>\n",
       "      <td>7</td>\n",
       "      <td>[Component, Food &amp; Drink, People &amp; Body, Smile...</td>\n",
       "      <td>[drink, emotion, face-concerned, food-prepared...</td>\n",
       "    </tr>\n",
       "    <tr>\n",
       "      <th>9956</th>\n",
       "      <td>I'm heading to a wedding. Weekend session afoo...</td>\n",
       "      <td>6</td>\n",
       "      <td>[Activities, Food &amp; Drink, Travel &amp; Places]</td>\n",
       "      <td>[drink, event, place-building]</td>\n",
       "    </tr>\n",
       "    <tr>\n",
       "      <th>9957</th>\n",
       "      <td>Bubbles time 🍾🥂😍 https://t.co/7UTbBRlVeb</td>\n",
       "      <td>3</td>\n",
       "      <td>[Food &amp; Drink, Smileys &amp; Emotion]</td>\n",
       "      <td>[drink, face-affection]</td>\n",
       "    </tr>\n",
       "  </tbody>\n",
       "</table>\n",
       "<p>9958 rows × 4 columns</p>\n",
       "</div>"
      ],
      "text/plain": [
       "                                                   text  emoji_count  \\\n",
       "0     RT @CalorieFixess: 🍗🌯🍔🍒 400 Calories https://t...            4   \n",
       "1     RT @1_F_I_R_S_T: _ 🍈¹〉Grow your account fast! ...            7   \n",
       "2     RT @LegendDeols: 👉👉👉G€T Ready to dance💃🕺🕺🕺💃💃💃 ...           24   \n",
       "3     @britch_x Hubby's friend bought us Wendy's-che...            2   \n",
       "4     RT @DAILYPUPPlES: Workout partner ☕🍌😍 https://...            3   \n",
       "...                                                 ...          ...   \n",
       "9953  #1stTest Brilliant Tension #England need 2wks ...            6   \n",
       "9954  RT @Thabang92416252: \"@PinexAndApplex: 🍍🍏 @Emt...            3   \n",
       "9955              @nuttysteph84 Steph!! 😭😭 🥓☕️🍳🤦🏼‍♂️❤️x            7   \n",
       "9956  I'm heading to a wedding. Weekend session afoo...            6   \n",
       "9957           Bubbles time 🍾🥂😍 https://t.co/7UTbBRlVeb            3   \n",
       "\n",
       "                                       emoji_categories  \\\n",
       "0                                        [Food & Drink]   \n",
       "1                                        [Food & Drink]   \n",
       "2       [Food & Drink, Objects, People & Body, Symbols]   \n",
       "3                                        [Food & Drink]   \n",
       "4                     [Food & Drink, Smileys & Emotion]   \n",
       "...                                                 ...   \n",
       "9953  [Activities, Food & Drink, People & Body, Smil...   \n",
       "9954                    [Food & Drink, Travel & Places]   \n",
       "9955  [Component, Food & Drink, People & Body, Smile...   \n",
       "9956        [Activities, Food & Drink, Travel & Places]   \n",
       "9957                  [Food & Drink, Smileys & Emotion]   \n",
       "\n",
       "                                        emoji_subgroups  \n",
       "0                           [food-fruit, food-prepared]  \n",
       "1                                          [food-fruit]  \n",
       "2     [clothing, drink, hand-single-finger, keycap, ...  \n",
       "3                                       [food-prepared]  \n",
       "4                   [drink, face-affection, food-fruit]  \n",
       "...                                                 ...  \n",
       "9953                [drink, face-smiling, hands, sport]  \n",
       "9954                        [food-fruit, sky & weather]  \n",
       "9955  [drink, emotion, face-concerned, food-prepared...  \n",
       "9956                     [drink, event, place-building]  \n",
       "9957                            [drink, face-affection]  \n",
       "\n",
       "[9958 rows x 4 columns]"
      ]
     },
     "execution_count": 49,
     "metadata": {},
     "output_type": "execute_result"
    }
   ],
   "source": [
    "tweets_df"
   ]
  },
  {
   "cell_type": "code",
   "execution_count": 56,
   "metadata": {},
   "outputs": [
    {
     "data": {
      "text/html": [
       "<div>\n",
       "<style scoped>\n",
       "    .dataframe tbody tr th:only-of-type {\n",
       "        vertical-align: middle;\n",
       "    }\n",
       "\n",
       "    .dataframe tbody tr th {\n",
       "        vertical-align: top;\n",
       "    }\n",
       "\n",
       "    .dataframe thead th {\n",
       "        text-align: right;\n",
       "    }\n",
       "</style>\n",
       "<table border=\"1\" class=\"dataframe\">\n",
       "  <thead>\n",
       "    <tr style=\"text-align: right;\">\n",
       "      <th></th>\n",
       "      <th>©</th>\n",
       "      <th>®</th>\n",
       "      <th>‼</th>\n",
       "      <th>⁉</th>\n",
       "      <th>™</th>\n",
       "      <th>ℹ</th>\n",
       "      <th>↖</th>\n",
       "      <th>↗</th>\n",
       "      <th>↘</th>\n",
       "      <th>↙</th>\n",
       "      <th>...</th>\n",
       "      <th>🧣</th>\n",
       "      <th>🧥</th>\n",
       "      <th>🧦</th>\n",
       "      <th>🧧</th>\n",
       "      <th>🧮</th>\n",
       "      <th>🧳</th>\n",
       "      <th>🧶</th>\n",
       "      <th>🧸</th>\n",
       "      <th>🧹</th>\n",
       "      <th>🧺</th>\n",
       "    </tr>\n",
       "  </thead>\n",
       "  <tbody>\n",
       "    <tr>\n",
       "      <th>0</th>\n",
       "      <td>0</td>\n",
       "      <td>0</td>\n",
       "      <td>0</td>\n",
       "      <td>0</td>\n",
       "      <td>0</td>\n",
       "      <td>0</td>\n",
       "      <td>0</td>\n",
       "      <td>0</td>\n",
       "      <td>0</td>\n",
       "      <td>0</td>\n",
       "      <td>...</td>\n",
       "      <td>0</td>\n",
       "      <td>0</td>\n",
       "      <td>0</td>\n",
       "      <td>0</td>\n",
       "      <td>0</td>\n",
       "      <td>0</td>\n",
       "      <td>0</td>\n",
       "      <td>0</td>\n",
       "      <td>0</td>\n",
       "      <td>0</td>\n",
       "    </tr>\n",
       "    <tr>\n",
       "      <th>1</th>\n",
       "      <td>0</td>\n",
       "      <td>0</td>\n",
       "      <td>0</td>\n",
       "      <td>0</td>\n",
       "      <td>0</td>\n",
       "      <td>0</td>\n",
       "      <td>0</td>\n",
       "      <td>0</td>\n",
       "      <td>0</td>\n",
       "      <td>0</td>\n",
       "      <td>...</td>\n",
       "      <td>0</td>\n",
       "      <td>0</td>\n",
       "      <td>0</td>\n",
       "      <td>0</td>\n",
       "      <td>0</td>\n",
       "      <td>0</td>\n",
       "      <td>0</td>\n",
       "      <td>0</td>\n",
       "      <td>0</td>\n",
       "      <td>0</td>\n",
       "    </tr>\n",
       "    <tr>\n",
       "      <th>2</th>\n",
       "      <td>0</td>\n",
       "      <td>0</td>\n",
       "      <td>0</td>\n",
       "      <td>0</td>\n",
       "      <td>0</td>\n",
       "      <td>0</td>\n",
       "      <td>0</td>\n",
       "      <td>0</td>\n",
       "      <td>0</td>\n",
       "      <td>0</td>\n",
       "      <td>...</td>\n",
       "      <td>0</td>\n",
       "      <td>0</td>\n",
       "      <td>0</td>\n",
       "      <td>0</td>\n",
       "      <td>0</td>\n",
       "      <td>0</td>\n",
       "      <td>0</td>\n",
       "      <td>0</td>\n",
       "      <td>0</td>\n",
       "      <td>0</td>\n",
       "    </tr>\n",
       "    <tr>\n",
       "      <th>3</th>\n",
       "      <td>0</td>\n",
       "      <td>0</td>\n",
       "      <td>0</td>\n",
       "      <td>0</td>\n",
       "      <td>0</td>\n",
       "      <td>0</td>\n",
       "      <td>0</td>\n",
       "      <td>0</td>\n",
       "      <td>0</td>\n",
       "      <td>0</td>\n",
       "      <td>...</td>\n",
       "      <td>0</td>\n",
       "      <td>0</td>\n",
       "      <td>0</td>\n",
       "      <td>0</td>\n",
       "      <td>0</td>\n",
       "      <td>0</td>\n",
       "      <td>0</td>\n",
       "      <td>0</td>\n",
       "      <td>0</td>\n",
       "      <td>0</td>\n",
       "    </tr>\n",
       "    <tr>\n",
       "      <th>4</th>\n",
       "      <td>0</td>\n",
       "      <td>0</td>\n",
       "      <td>0</td>\n",
       "      <td>0</td>\n",
       "      <td>0</td>\n",
       "      <td>0</td>\n",
       "      <td>0</td>\n",
       "      <td>0</td>\n",
       "      <td>0</td>\n",
       "      <td>0</td>\n",
       "      <td>...</td>\n",
       "      <td>0</td>\n",
       "      <td>0</td>\n",
       "      <td>0</td>\n",
       "      <td>0</td>\n",
       "      <td>0</td>\n",
       "      <td>0</td>\n",
       "      <td>0</td>\n",
       "      <td>0</td>\n",
       "      <td>0</td>\n",
       "      <td>0</td>\n",
       "    </tr>\n",
       "  </tbody>\n",
       "</table>\n",
       "<p>5 rows × 1009 columns</p>\n",
       "</div>"
      ],
      "text/plain": [
       "   ©  ®  ‼  ⁉  ™  ℹ  ↖  ↗  ↘  ↙  ...  🧣  🧥  🧦  🧧  🧮  🧳  🧶  🧸  🧹  🧺\n",
       "0  0  0  0  0  0  0  0  0  0  0  ...  0  0  0  0  0  0  0  0  0  0\n",
       "1  0  0  0  0  0  0  0  0  0  0  ...  0  0  0  0  0  0  0  0  0  0\n",
       "2  0  0  0  0  0  0  0  0  0  0  ...  0  0  0  0  0  0  0  0  0  0\n",
       "3  0  0  0  0  0  0  0  0  0  0  ...  0  0  0  0  0  0  0  0  0  0\n",
       "4  0  0  0  0  0  0  0  0  0  0  ...  0  0  0  0  0  0  0  0  0  0\n",
       "\n",
       "[5 rows x 1009 columns]"
      ]
     },
     "execution_count": 56,
     "metadata": {},
     "output_type": "execute_result"
    }
   ],
   "source": [
    "mlb = MultiLabelBinarizer()\n",
    "emoji_matrix = pd.DataFrame(\n",
    "    data=mlb.fit_transform(tweets_df.emojis),\n",
    "    index=tweets_df.index,\n",
    "    columns=mlb.classes_,\n",
    ")\n",
    "emoji_matrix.head()"
   ]
  },
  {
   "cell_type": "markdown",
   "metadata": {},
   "source": [
    "## 2. Summary Statistics "
   ]
  },
  {
   "cell_type": "code",
   "execution_count": 57,
   "metadata": {},
   "outputs": [
    {
     "ename": "ValueError",
     "evalue": "columns overlap but no suffix specified: Index(['emoji_count'], dtype='object')",
     "output_type": "error",
     "traceback": [
      "\u001b[0;31m---------------------------------------------------------------------------\u001b[0m",
      "\u001b[0;31mValueError\u001b[0m                                Traceback (most recent call last)",
      "Cell \u001b[0;32mIn[57], line 2\u001b[0m\n\u001b[1;32m      1\u001b[0m emoji_length \u001b[38;5;241m=\u001b[39m emoji_matrix\u001b[38;5;241m.\u001b[39msum(axis\u001b[38;5;241m=\u001b[39m\u001b[38;5;241m1\u001b[39m)\n\u001b[0;32m----> 2\u001b[0m \u001b[43mtweets_df\u001b[49m\u001b[38;5;241;43m.\u001b[39;49m\u001b[43mjoin\u001b[49m\u001b[43m(\u001b[49m\u001b[43memoji_length\u001b[49m\u001b[38;5;241;43m.\u001b[39;49m\u001b[43mrename\u001b[49m\u001b[43m(\u001b[49m\u001b[38;5;124;43m\"\u001b[39;49m\u001b[38;5;124;43memoji_count\u001b[39;49m\u001b[38;5;124;43m\"\u001b[39;49m\u001b[43m)\u001b[49m\u001b[43m)\u001b[49m\n",
      "File \u001b[0;32m/usr/local/lib/python3.10/site-packages/pandas/core/frame.py:9979\u001b[0m, in \u001b[0;36mDataFrame.join\u001b[0;34m(self, other, on, how, lsuffix, rsuffix, sort, validate)\u001b[0m\n\u001b[1;32m   9816\u001b[0m \u001b[38;5;28;01mdef\u001b[39;00m \u001b[38;5;21mjoin\u001b[39m(\n\u001b[1;32m   9817\u001b[0m     \u001b[38;5;28mself\u001b[39m,\n\u001b[1;32m   9818\u001b[0m     other: DataFrame \u001b[38;5;241m|\u001b[39m Series \u001b[38;5;241m|\u001b[39m \u001b[38;5;28mlist\u001b[39m[DataFrame \u001b[38;5;241m|\u001b[39m Series],\n\u001b[0;32m   (...)\u001b[0m\n\u001b[1;32m   9824\u001b[0m     validate: \u001b[38;5;28mstr\u001b[39m \u001b[38;5;241m|\u001b[39m \u001b[38;5;28;01mNone\u001b[39;00m \u001b[38;5;241m=\u001b[39m \u001b[38;5;28;01mNone\u001b[39;00m,\n\u001b[1;32m   9825\u001b[0m ) \u001b[38;5;241m-\u001b[39m\u001b[38;5;241m>\u001b[39m DataFrame:\n\u001b[1;32m   9826\u001b[0m \u001b[38;5;250m    \u001b[39m\u001b[38;5;124;03m\"\"\"\u001b[39;00m\n\u001b[1;32m   9827\u001b[0m \u001b[38;5;124;03m    Join columns of another DataFrame.\u001b[39;00m\n\u001b[1;32m   9828\u001b[0m \n\u001b[0;32m   (...)\u001b[0m\n\u001b[1;32m   9977\u001b[0m \u001b[38;5;124;03m    5  K1  A5   B1\u001b[39;00m\n\u001b[1;32m   9978\u001b[0m \u001b[38;5;124;03m    \"\"\"\u001b[39;00m\n\u001b[0;32m-> 9979\u001b[0m     \u001b[38;5;28;01mreturn\u001b[39;00m \u001b[38;5;28;43mself\u001b[39;49m\u001b[38;5;241;43m.\u001b[39;49m\u001b[43m_join_compat\u001b[49m\u001b[43m(\u001b[49m\n\u001b[1;32m   9980\u001b[0m \u001b[43m        \u001b[49m\u001b[43mother\u001b[49m\u001b[43m,\u001b[49m\n\u001b[1;32m   9981\u001b[0m \u001b[43m        \u001b[49m\u001b[43mon\u001b[49m\u001b[38;5;241;43m=\u001b[39;49m\u001b[43mon\u001b[49m\u001b[43m,\u001b[49m\n\u001b[1;32m   9982\u001b[0m \u001b[43m        \u001b[49m\u001b[43mhow\u001b[49m\u001b[38;5;241;43m=\u001b[39;49m\u001b[43mhow\u001b[49m\u001b[43m,\u001b[49m\n\u001b[1;32m   9983\u001b[0m \u001b[43m        \u001b[49m\u001b[43mlsuffix\u001b[49m\u001b[38;5;241;43m=\u001b[39;49m\u001b[43mlsuffix\u001b[49m\u001b[43m,\u001b[49m\n\u001b[1;32m   9984\u001b[0m \u001b[43m        \u001b[49m\u001b[43mrsuffix\u001b[49m\u001b[38;5;241;43m=\u001b[39;49m\u001b[43mrsuffix\u001b[49m\u001b[43m,\u001b[49m\n\u001b[1;32m   9985\u001b[0m \u001b[43m        \u001b[49m\u001b[43msort\u001b[49m\u001b[38;5;241;43m=\u001b[39;49m\u001b[43msort\u001b[49m\u001b[43m,\u001b[49m\n\u001b[1;32m   9986\u001b[0m \u001b[43m        \u001b[49m\u001b[43mvalidate\u001b[49m\u001b[38;5;241;43m=\u001b[39;49m\u001b[43mvalidate\u001b[49m\u001b[43m,\u001b[49m\n\u001b[1;32m   9987\u001b[0m \u001b[43m    \u001b[49m\u001b[43m)\u001b[49m\n",
      "File \u001b[0;32m/usr/local/lib/python3.10/site-packages/pandas/core/frame.py:10018\u001b[0m, in \u001b[0;36mDataFrame._join_compat\u001b[0;34m(self, other, on, how, lsuffix, rsuffix, sort, validate)\u001b[0m\n\u001b[1;32m  10008\u001b[0m     \u001b[38;5;28;01mif\u001b[39;00m how \u001b[38;5;241m==\u001b[39m \u001b[38;5;124m\"\u001b[39m\u001b[38;5;124mcross\u001b[39m\u001b[38;5;124m\"\u001b[39m:\n\u001b[1;32m  10009\u001b[0m         \u001b[38;5;28;01mreturn\u001b[39;00m merge(\n\u001b[1;32m  10010\u001b[0m             \u001b[38;5;28mself\u001b[39m,\n\u001b[1;32m  10011\u001b[0m             other,\n\u001b[0;32m   (...)\u001b[0m\n\u001b[1;32m  10016\u001b[0m             validate\u001b[38;5;241m=\u001b[39mvalidate,\n\u001b[1;32m  10017\u001b[0m         )\n\u001b[0;32m> 10018\u001b[0m     \u001b[38;5;28;01mreturn\u001b[39;00m \u001b[43mmerge\u001b[49m\u001b[43m(\u001b[49m\n\u001b[1;32m  10019\u001b[0m \u001b[43m        \u001b[49m\u001b[38;5;28;43mself\u001b[39;49m\u001b[43m,\u001b[49m\n\u001b[1;32m  10020\u001b[0m \u001b[43m        \u001b[49m\u001b[43mother\u001b[49m\u001b[43m,\u001b[49m\n\u001b[1;32m  10021\u001b[0m \u001b[43m        \u001b[49m\u001b[43mleft_on\u001b[49m\u001b[38;5;241;43m=\u001b[39;49m\u001b[43mon\u001b[49m\u001b[43m,\u001b[49m\n\u001b[1;32m  10022\u001b[0m \u001b[43m        \u001b[49m\u001b[43mhow\u001b[49m\u001b[38;5;241;43m=\u001b[39;49m\u001b[43mhow\u001b[49m\u001b[43m,\u001b[49m\n\u001b[1;32m  10023\u001b[0m \u001b[43m        \u001b[49m\u001b[43mleft_index\u001b[49m\u001b[38;5;241;43m=\u001b[39;49m\u001b[43mon\u001b[49m\u001b[43m \u001b[49m\u001b[38;5;129;43;01mis\u001b[39;49;00m\u001b[43m \u001b[49m\u001b[38;5;28;43;01mNone\u001b[39;49;00m\u001b[43m,\u001b[49m\n\u001b[1;32m  10024\u001b[0m \u001b[43m        \u001b[49m\u001b[43mright_index\u001b[49m\u001b[38;5;241;43m=\u001b[39;49m\u001b[38;5;28;43;01mTrue\u001b[39;49;00m\u001b[43m,\u001b[49m\n\u001b[1;32m  10025\u001b[0m \u001b[43m        \u001b[49m\u001b[43msuffixes\u001b[49m\u001b[38;5;241;43m=\u001b[39;49m\u001b[43m(\u001b[49m\u001b[43mlsuffix\u001b[49m\u001b[43m,\u001b[49m\u001b[43m \u001b[49m\u001b[43mrsuffix\u001b[49m\u001b[43m)\u001b[49m\u001b[43m,\u001b[49m\n\u001b[1;32m  10026\u001b[0m \u001b[43m        \u001b[49m\u001b[43msort\u001b[49m\u001b[38;5;241;43m=\u001b[39;49m\u001b[43msort\u001b[49m\u001b[43m,\u001b[49m\n\u001b[1;32m  10027\u001b[0m \u001b[43m        \u001b[49m\u001b[43mvalidate\u001b[49m\u001b[38;5;241;43m=\u001b[39;49m\u001b[43mvalidate\u001b[49m\u001b[43m,\u001b[49m\n\u001b[1;32m  10028\u001b[0m \u001b[43m    \u001b[49m\u001b[43m)\u001b[49m\n\u001b[1;32m  10029\u001b[0m \u001b[38;5;28;01melse\u001b[39;00m:\n\u001b[1;32m  10030\u001b[0m     \u001b[38;5;28;01mif\u001b[39;00m on \u001b[38;5;129;01mis\u001b[39;00m \u001b[38;5;129;01mnot\u001b[39;00m \u001b[38;5;28;01mNone\u001b[39;00m:\n",
      "File \u001b[0;32m/usr/local/lib/python3.10/site-packages/pandas/core/reshape/merge.py:124\u001b[0m, in \u001b[0;36mmerge\u001b[0;34m(left, right, how, on, left_on, right_on, left_index, right_index, sort, suffixes, copy, indicator, validate)\u001b[0m\n\u001b[1;32m     93\u001b[0m \u001b[38;5;129m@Substitution\u001b[39m(\u001b[38;5;124m\"\u001b[39m\u001b[38;5;130;01m\\n\u001b[39;00m\u001b[38;5;124mleft : DataFrame or named Series\u001b[39m\u001b[38;5;124m\"\u001b[39m)\n\u001b[1;32m     94\u001b[0m \u001b[38;5;129m@Appender\u001b[39m(_merge_doc, indents\u001b[38;5;241m=\u001b[39m\u001b[38;5;241m0\u001b[39m)\n\u001b[1;32m     95\u001b[0m \u001b[38;5;28;01mdef\u001b[39;00m \u001b[38;5;21mmerge\u001b[39m(\n\u001b[0;32m   (...)\u001b[0m\n\u001b[1;32m    108\u001b[0m     validate: \u001b[38;5;28mstr\u001b[39m \u001b[38;5;241m|\u001b[39m \u001b[38;5;28;01mNone\u001b[39;00m \u001b[38;5;241m=\u001b[39m \u001b[38;5;28;01mNone\u001b[39;00m,\n\u001b[1;32m    109\u001b[0m ) \u001b[38;5;241m-\u001b[39m\u001b[38;5;241m>\u001b[39m DataFrame:\n\u001b[1;32m    110\u001b[0m     op \u001b[38;5;241m=\u001b[39m _MergeOperation(\n\u001b[1;32m    111\u001b[0m         left,\n\u001b[1;32m    112\u001b[0m         right,\n\u001b[0;32m   (...)\u001b[0m\n\u001b[1;32m    122\u001b[0m         validate\u001b[38;5;241m=\u001b[39mvalidate,\n\u001b[1;32m    123\u001b[0m     )\n\u001b[0;32m--> 124\u001b[0m     \u001b[38;5;28;01mreturn\u001b[39;00m \u001b[43mop\u001b[49m\u001b[38;5;241;43m.\u001b[39;49m\u001b[43mget_result\u001b[49m\u001b[43m(\u001b[49m\u001b[43mcopy\u001b[49m\u001b[38;5;241;43m=\u001b[39;49m\u001b[43mcopy\u001b[49m\u001b[43m)\u001b[49m\n",
      "File \u001b[0;32m/usr/local/lib/python3.10/site-packages/pandas/core/reshape/merge.py:775\u001b[0m, in \u001b[0;36m_MergeOperation.get_result\u001b[0;34m(self, copy)\u001b[0m\n\u001b[1;32m    771\u001b[0m     \u001b[38;5;28mself\u001b[39m\u001b[38;5;241m.\u001b[39mleft, \u001b[38;5;28mself\u001b[39m\u001b[38;5;241m.\u001b[39mright \u001b[38;5;241m=\u001b[39m \u001b[38;5;28mself\u001b[39m\u001b[38;5;241m.\u001b[39m_indicator_pre_merge(\u001b[38;5;28mself\u001b[39m\u001b[38;5;241m.\u001b[39mleft, \u001b[38;5;28mself\u001b[39m\u001b[38;5;241m.\u001b[39mright)\n\u001b[1;32m    773\u001b[0m join_index, left_indexer, right_indexer \u001b[38;5;241m=\u001b[39m \u001b[38;5;28mself\u001b[39m\u001b[38;5;241m.\u001b[39m_get_join_info()\n\u001b[0;32m--> 775\u001b[0m result \u001b[38;5;241m=\u001b[39m \u001b[38;5;28;43mself\u001b[39;49m\u001b[38;5;241;43m.\u001b[39;49m\u001b[43m_reindex_and_concat\u001b[49m\u001b[43m(\u001b[49m\n\u001b[1;32m    776\u001b[0m \u001b[43m    \u001b[49m\u001b[43mjoin_index\u001b[49m\u001b[43m,\u001b[49m\u001b[43m \u001b[49m\u001b[43mleft_indexer\u001b[49m\u001b[43m,\u001b[49m\u001b[43m \u001b[49m\u001b[43mright_indexer\u001b[49m\u001b[43m,\u001b[49m\u001b[43m \u001b[49m\u001b[43mcopy\u001b[49m\u001b[38;5;241;43m=\u001b[39;49m\u001b[43mcopy\u001b[49m\n\u001b[1;32m    777\u001b[0m \u001b[43m\u001b[49m\u001b[43m)\u001b[49m\n\u001b[1;32m    778\u001b[0m result \u001b[38;5;241m=\u001b[39m result\u001b[38;5;241m.\u001b[39m__finalize__(\u001b[38;5;28mself\u001b[39m, method\u001b[38;5;241m=\u001b[39m\u001b[38;5;28mself\u001b[39m\u001b[38;5;241m.\u001b[39m_merge_type)\n\u001b[1;32m    780\u001b[0m \u001b[38;5;28;01mif\u001b[39;00m \u001b[38;5;28mself\u001b[39m\u001b[38;5;241m.\u001b[39mindicator:\n",
      "File \u001b[0;32m/usr/local/lib/python3.10/site-packages/pandas/core/reshape/merge.py:729\u001b[0m, in \u001b[0;36m_MergeOperation._reindex_and_concat\u001b[0;34m(self, join_index, left_indexer, right_indexer, copy)\u001b[0m\n\u001b[1;32m    726\u001b[0m left \u001b[38;5;241m=\u001b[39m \u001b[38;5;28mself\u001b[39m\u001b[38;5;241m.\u001b[39mleft[:]\n\u001b[1;32m    727\u001b[0m right \u001b[38;5;241m=\u001b[39m \u001b[38;5;28mself\u001b[39m\u001b[38;5;241m.\u001b[39mright[:]\n\u001b[0;32m--> 729\u001b[0m llabels, rlabels \u001b[38;5;241m=\u001b[39m \u001b[43m_items_overlap_with_suffix\u001b[49m\u001b[43m(\u001b[49m\n\u001b[1;32m    730\u001b[0m \u001b[43m    \u001b[49m\u001b[38;5;28;43mself\u001b[39;49m\u001b[38;5;241;43m.\u001b[39;49m\u001b[43mleft\u001b[49m\u001b[38;5;241;43m.\u001b[39;49m\u001b[43m_info_axis\u001b[49m\u001b[43m,\u001b[49m\u001b[43m \u001b[49m\u001b[38;5;28;43mself\u001b[39;49m\u001b[38;5;241;43m.\u001b[39;49m\u001b[43mright\u001b[49m\u001b[38;5;241;43m.\u001b[39;49m\u001b[43m_info_axis\u001b[49m\u001b[43m,\u001b[49m\u001b[43m \u001b[49m\u001b[38;5;28;43mself\u001b[39;49m\u001b[38;5;241;43m.\u001b[39;49m\u001b[43msuffixes\u001b[49m\n\u001b[1;32m    731\u001b[0m \u001b[43m\u001b[49m\u001b[43m)\u001b[49m\n\u001b[1;32m    733\u001b[0m \u001b[38;5;28;01mif\u001b[39;00m left_indexer \u001b[38;5;129;01mis\u001b[39;00m \u001b[38;5;129;01mnot\u001b[39;00m \u001b[38;5;28;01mNone\u001b[39;00m:\n\u001b[1;32m    734\u001b[0m     \u001b[38;5;66;03m# Pinning the index here (and in the right code just below) is not\u001b[39;00m\n\u001b[1;32m    735\u001b[0m     \u001b[38;5;66;03m#  necessary, but makes the `.take` more performant if we have e.g.\u001b[39;00m\n\u001b[1;32m    736\u001b[0m     \u001b[38;5;66;03m#  a MultiIndex for left.index.\u001b[39;00m\n\u001b[1;32m    737\u001b[0m     lmgr \u001b[38;5;241m=\u001b[39m left\u001b[38;5;241m.\u001b[39m_mgr\u001b[38;5;241m.\u001b[39mreindex_indexer(\n\u001b[1;32m    738\u001b[0m         join_index,\n\u001b[1;32m    739\u001b[0m         left_indexer,\n\u001b[0;32m   (...)\u001b[0m\n\u001b[1;32m    744\u001b[0m         use_na_proxy\u001b[38;5;241m=\u001b[39m\u001b[38;5;28;01mTrue\u001b[39;00m,\n\u001b[1;32m    745\u001b[0m     )\n",
      "File \u001b[0;32m/usr/local/lib/python3.10/site-packages/pandas/core/reshape/merge.py:2458\u001b[0m, in \u001b[0;36m_items_overlap_with_suffix\u001b[0;34m(left, right, suffixes)\u001b[0m\n\u001b[1;32m   2455\u001b[0m lsuffix, rsuffix \u001b[38;5;241m=\u001b[39m suffixes\n\u001b[1;32m   2457\u001b[0m \u001b[38;5;28;01mif\u001b[39;00m \u001b[38;5;129;01mnot\u001b[39;00m lsuffix \u001b[38;5;129;01mand\u001b[39;00m \u001b[38;5;129;01mnot\u001b[39;00m rsuffix:\n\u001b[0;32m-> 2458\u001b[0m     \u001b[38;5;28;01mraise\u001b[39;00m \u001b[38;5;167;01mValueError\u001b[39;00m(\u001b[38;5;124mf\u001b[39m\u001b[38;5;124m\"\u001b[39m\u001b[38;5;124mcolumns overlap but no suffix specified: \u001b[39m\u001b[38;5;132;01m{\u001b[39;00mto_rename\u001b[38;5;132;01m}\u001b[39;00m\u001b[38;5;124m\"\u001b[39m)\n\u001b[1;32m   2460\u001b[0m \u001b[38;5;28;01mdef\u001b[39;00m \u001b[38;5;21mrenamer\u001b[39m(x, suffix):\n\u001b[1;32m   2461\u001b[0m \u001b[38;5;250m    \u001b[39m\u001b[38;5;124;03m\"\"\"\u001b[39;00m\n\u001b[1;32m   2462\u001b[0m \u001b[38;5;124;03m    Rename the left and right indices.\u001b[39;00m\n\u001b[1;32m   2463\u001b[0m \n\u001b[0;32m   (...)\u001b[0m\n\u001b[1;32m   2474\u001b[0m \u001b[38;5;124;03m    x : renamed column name\u001b[39;00m\n\u001b[1;32m   2475\u001b[0m \u001b[38;5;124;03m    \"\"\"\u001b[39;00m\n",
      "\u001b[0;31mValueError\u001b[0m: columns overlap but no suffix specified: Index(['emoji_count'], dtype='object')"
     ]
    }
   ],
   "source": [
    "emoji_length = emoji_matrix.sum(axis=1)\n",
    "tweets_df.join(emoji_length.rename(\"emoji_count\"))"
   ]
  },
  {
   "cell_type": "code",
   "execution_count": null,
   "metadata": {},
   "outputs": [],
   "source": [
    "tweets_df.join(emoji_length.rename(\"emoji_count\"))"
   ]
  },
  {
   "cell_type": "code",
   "execution_count": null,
   "metadata": {},
   "outputs": [],
   "source": [
    "emoji_length_distribution = (\n",
    "    emoji_length.value_counts()\n",
    "    .rename_axis(index=\"emoji_length\")\n",
    "    .rename(\"freq\")\n",
    "    .reset_index()\n",
    ")\n",
    "emoji_length_distribution.head()"
   ]
  },
  {
   "cell_type": "code",
   "execution_count": null,
   "metadata": {},
   "outputs": [],
   "source": [
    "_, ax = plt.subplots()\n",
    "ax.plot(emoji_length_distribution.emoji_length, emoji_length_distribution.freq, \"o\")\n",
    "ax.set_xscale(\"log\")\n",
    "ax.set_yscale(\"log\")\n",
    "ax.set_xlabel(\"#emojis in a tweet\")\n",
    "ax.set_ylabel(\"frequency of tweets\")\n"
   ]
  },
  {
   "cell_type": "markdown",
   "metadata": {},
   "source": [
    "Finding the most popular emojis"
   ]
  },
  {
   "cell_type": "code",
   "execution_count": null,
   "metadata": {},
   "outputs": [],
   "source": [
    "emoji_matrix.sum(axis=0).sort_values(ascending=False).head(10)"
   ]
  },
  {
   "cell_type": "markdown",
   "metadata": {},
   "source": [
    "Finding frequent itemsets"
   ]
  },
  {
   "cell_type": "code",
   "execution_count": null,
   "metadata": {},
   "outputs": [],
   "source": [
    "frequent_itemsets = apriori(emoji_matrix, min_support=0.005, use_colnames=True)\n",
    "frequent_itemsets"
   ]
  },
  {
   "cell_type": "code",
   "execution_count": null,
   "metadata": {},
   "outputs": [],
   "source": [
    "def emoji_frequent_itemsets(emoji_matrix, min_support=0.005, k=3):\n",
    "    frequent_itemsets = apriori(\n",
    "        emoji_matrix, min_support=min_support, use_colnames=True\n",
    "    )\n",
    "    return frequent_itemsets[frequent_itemsets[\"itemsets\"].apply(lambda x: len(x)) == k]"
   ]
  },
  {
   "cell_type": "code",
   "execution_count": null,
   "metadata": {},
   "outputs": [],
   "source": [
    "emoji_frequent_3itemsets = emoji_frequent_itemsets(emoji_matrix, min_support=0.005, k=3)\n",
    "# You can uncomment the following line to view the obtained frequent itemsets.\n",
    "emoji_frequent_3itemsets"
   ]
  },
  {
   "cell_type": "code",
   "execution_count": null,
   "metadata": {},
   "outputs": [],
   "source": [
    "emoji_frequent_4itemsets = emoji_frequent_itemsets(emoji_matrix, min_support=0.005, k=4)\n",
    "emoji_frequent_4itemsets"
   ]
  },
  {
   "cell_type": "markdown",
   "metadata": {},
   "source": [
    "People have developed various measurements of the interestingness of patterns. Most of them split the itemset into an antecedent item(set) and a consequent item(set), and then measure the correlation between the antecedent and the consequent."
   ]
  },
  {
   "cell_type": "code",
   "execution_count": null,
   "metadata": {},
   "outputs": [],
   "source": [
    "interestingness_measurements = association_rules(\n",
    "    frequent_itemsets,\n",
    "    metric=\"lift\",\n",
    "    min_threshold=0,\n",
    ")\n",
    "\n",
    "interestingness_measurements.sort_values(\"support\", ascending=False).head(10)"
   ]
  },
  {
   "cell_type": "markdown",
   "metadata": {},
   "source": [
    "### Calculating the full mutual information\n",
    "\n",
    "Full mutual information is defined as:\n",
    "\n",
    "$$I(X;Y)=\\sum_{x\\in\\mathcal{X}}\\sum_{y\\in\\mathcal{Y}} P(X=x, Y=y)\\log_2\\frac{P(X=x,Y=y)}{P(X=x)P(Y=y)}.$$\n",
    "\n",
    "Note that the logorithm requires that the joint probability $P(X=x, Y=y) > 0$, which does not hold for some $(x, y)$. However, since we know that when $P(X=x, Y=y) = 0$, it would not contribute to the sum, you may assume $P(X=x, Y=y)\\log_2\\frac{P(X=x,Y=y)}{P(X=x)P(P=y)} = 0$ in that case.\n",
    "\n",
    "$x$, $y$ are possible values of $X$ and $Y$; in the case of appearance or absence of an item, 1 or 0. Therefore, we need to consider all possible combinations of $x$ and $y$, that is, $(X=1, Y=1)$, $(X=1, Y=0)$, $(X=0, Y=1)$, $(X=0, Y=0)$."
   ]
  },
  {
   "cell_type": "code",
   "execution_count": null,
   "metadata": {},
   "outputs": [],
   "source": [
    "def calculate_sum(px: float, py: float, pxy: float) -> float:\n",
    "    \"\"\"\n",
    "    Calculate the sum for a given combination of px, py, and pxy.\n",
    "\n",
    "    Parameters:\n",
    "    px (float): The probability of x.\n",
    "    py (float): The probability of y.\n",
    "    pxy (float): The joint probability of x and y.\n",
    "\n",
    "    Returns:\n",
    "    float: The calculated sum.\n",
    "    \"\"\"\n",
    "    return 0 if pxy == 0 else np.multiply(pxy, np.log2(pxy / (px * py)))\n",
    "\n",
    "\n",
    "def mi(antecedent_support: float, consequent_support: float, support: float) -> float:\n",
    "    \"\"\"\n",
    "    Calculate the mutual information.\n",
    "\n",
    "    Parameters:\n",
    "    antecedent_support (float): The support of the antecedent.\n",
    "    consequent_support (float): The support of the consequent.\n",
    "    support (float): The joint support of the antecedent and consequent.\n",
    "\n",
    "    Returns:\n",
    "    float: The mutual information.\n",
    "    \"\"\"\n",
    "    px1 = antecedent_support\n",
    "    px0 = 1 - antecedent_support\n",
    "    py1 = consequent_support\n",
    "    py0 = 1 - consequent_support\n",
    "\n",
    "    px1y1 = support\n",
    "    px1y0 = px1 - px1y1\n",
    "    px0y1 = py1 - px1y1\n",
    "    px0y0 = 1 - px1 - py1 + px1y1\n",
    "\n",
    "    px1y1_sum = calculate_sum(px1, py1, px1y1)\n",
    "    px1y0_sum = calculate_sum(px1, py0, px1y0)\n",
    "    px0y1_sum = calculate_sum(px0, py1, px0y1)\n",
    "    px0y0_sum = calculate_sum(px0, py0, px0y0)\n",
    "\n",
    "    return px1y1_sum + px1y0_sum + px0y1_sum + px0y0_sum"
   ]
  },
  {
   "cell_type": "markdown",
   "metadata": {},
   "source": [
    "With the `mi` function, we can now compute the mutual information for each (antecedent -> consequent) pair and attach it to the data frame. "
   ]
  },
  {
   "cell_type": "code",
   "execution_count": null,
   "metadata": {},
   "outputs": [],
   "source": [
    "interestingness_measurements[\"mi\"] = interestingness_measurements.apply(\n",
    "    lambda pair: mi(\n",
    "        pair[\"antecedent support\"], pair[\"consequent support\"], pair[\"support\"]\n",
    "    ),\n",
    "    axis=1,\n",
    ")\n",
    "interestingness_measurements.sort_values(\"mi\", ascending=False).head(n=5)"
   ]
  },
  {
   "cell_type": "markdown",
   "metadata": {},
   "source": [
    "## Item Similarity"
   ]
  },
  {
   "cell_type": "code",
   "execution_count": null,
   "metadata": {},
   "outputs": [],
   "source": [
    "def jaccard_similarity(set_a, set_b):\n",
    "    union = set_a.union(set_b)\n",
    "    intersection = set_a.intersection(set_b)\n",
    "\n",
    "    return len(intersection) / len(union)"
   ]
  },
  {
   "cell_type": "code",
   "execution_count": null,
   "metadata": {},
   "outputs": [],
   "source": [
    "tweets_df"
   ]
  },
  {
   "cell_type": "code",
   "execution_count": null,
   "metadata": {},
   "outputs": [],
   "source": [
    "tweets_df.loc[0].emojis"
   ]
  },
  {
   "cell_type": "code",
   "execution_count": null,
   "metadata": {},
   "outputs": [],
   "source": []
  }
 ],
 "metadata": {
  "kernelspec": {
   "display_name": "Python 3",
   "language": "python",
   "name": "python3"
  },
  "language_info": {
   "codemirror_mode": {
    "name": "ipython",
    "version": 3
   },
   "file_extension": ".py",
   "mimetype": "text/x-python",
   "name": "python",
   "nbconvert_exporter": "python",
   "pygments_lexer": "ipython3",
   "version": "3.10.10"
  }
 },
 "nbformat": 4,
 "nbformat_minor": 2
}
