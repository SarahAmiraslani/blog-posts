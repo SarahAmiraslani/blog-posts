{
 "cells": [
  {
   "cell_type": "markdown",
   "metadata": {},
   "source": [
    "# Bechdeltest Exploration"
   ]
  },
  {
   "cell_type": "code",
   "execution_count": 1,
   "metadata": {},
   "outputs": [],
   "source": [
    "# standard library imports\n",
    "import time\n",
    "\n",
    "# third party imports\n",
    "import pandas as pd\n",
    "import numpy as np\n",
    "import requests\n",
    "import requests_cache\n",
    "import altair as alt\n",
    "from tqdm import tqdm"
   ]
  },
  {
   "cell_type": "code",
   "execution_count": 2,
   "metadata": {},
   "outputs": [],
   "source": [
    "# enable correct rendering\n",
    "alt.renderers.enable(\"default\");\n",
    "\n",
    "# uses intermediate json files to speed things up\n",
    "alt.data_transformers.enable(\"json\");\n",
    "\n",
    "# Set up a cache that expires after an hour\n",
    "requests_cache.install_cache(\"movie_cache\", expire_after=3600)"
   ]
  },
  {
   "cell_type": "markdown",
   "metadata": {},
   "source": [
    "## Request IMDB and Benchdel Test Data"
   ]
  },
  {
   "cell_type": "code",
   "execution_count": 3,
   "metadata": {},
   "outputs": [
    {
     "name": "stderr",
     "output_type": "stream",
     "text": [
      "Processing movies:  20%|█▉        | 2040/10289 [37:54<2:42:12,  1.18s/movie]"
     ]
    }
   ],
   "source": [
    "def make_request(url, params=None):\n",
    "    response = requests.get(url, params=params)\n",
    "    if response.status_code != 200:\n",
    "        print(f\"Request to {url} failed with status code {response.status_code}\")\n",
    "        return None\n",
    "    return response.json()\n",
    "\n",
    "\n",
    "def update_movie_data(movies, rating_url):\n",
    "    for movie in tqdm(movies, desc=\"Processing movies\", unit=\"movie\"):\n",
    "        imdb_id = movie[\"imdbid\"]\n",
    "        movie_data = make_request(f\"{rating_url}\", params={\"imdbid\": imdb_id})\n",
    "        if movie_data is not None:\n",
    "            movie.update(movie_data)\n",
    "        time.sleep(0.1)  # sleep for 100 milliseconds\n",
    "\n",
    "# get all movie IMBD ids\n",
    "movies_url = \"http://bechdeltest.com/api/v1/getAllMovies\"\n",
    "movies = make_request(movies_url)\n",
    "\n",
    "# use the IMBD ids to get the benchdel ratings, save results\n",
    "if movies is not None:\n",
    "    rating_url = \"http://bechdeltest.com/api/v1/getMovieByImdbId\"\n",
    "    update_movie_data(movies, rating_url)\n",
    "    movies_df = pd.DataFrame(movies)"
   ]
  },
  {
   "cell_type": "code",
   "execution_count": null,
   "metadata": {},
   "outputs": [],
   "source": [
    "# save the results\n",
    "movies_df.to_csv(\"movies.csv\", index=False)"
   ]
  },
  {
   "cell_type": "markdown",
   "metadata": {},
   "source": [
    "- https://bechdeltest.com/api/v1/doc\n",
    "- https://www.kaggle.com/datasets/treelunar/bechdel-test-movies-as-of-feb-28-2023\n",
    "- https://www.kaggle.com/datasets/alisonyao/movie-bechdel-test-scores/data"
   ]
  }
 ],
 "metadata": {
  "kernelspec": {
   "display_name": "Python 3",
   "language": "python",
   "name": "python3"
  },
  "language_info": {
   "codemirror_mode": {
    "name": "ipython",
    "version": 3
   },
   "file_extension": ".py",
   "mimetype": "text/x-python",
   "name": "python",
   "nbconvert_exporter": "python",
   "pygments_lexer": "ipython3",
   "version": "3.10.10"
  }
 },
 "nbformat": 4,
 "nbformat_minor": 2
}
